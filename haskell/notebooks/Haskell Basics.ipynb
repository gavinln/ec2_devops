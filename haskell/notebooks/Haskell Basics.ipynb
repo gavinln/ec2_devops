{
 "metadata": {
  "language": "haskell",
  "name": "",
  "signature": "sha256:36f64057638dcba72c1e0309978e24ca42a848249815fe25a91536f0f830de88"
 },
 "nbformat": 3,
 "nbformat_minor": 0,
 "worksheets": [
  {
   "cells": [
    {
     "cell_type": "code",
     "collapsed": false,
     "input": [
      " ## Declarations and variables"
     ],
     "language": "python",
     "metadata": {},
     "outputs": [
      {
       "html": [
        "<span class='err-msg'>Parse error (line 1, column 2): lexical error at character '#'</span>"
       ],
       "metadata": {},
       "output_type": "display_data",
       "text": [
        "Parse error (line 1, column 2): lexical error at character '#'"
       ]
      }
     ],
     "prompt_number": 72
    },
    {
     "cell_type": "code",
     "collapsed": false,
     "input": [
      "x :: Int\n",
      "x = 3"
     ],
     "language": "python",
     "metadata": {},
     "outputs": [],
     "prompt_number": 73
    },
    {
     "cell_type": "code",
     "collapsed": false,
     "input": [
      ":type x"
     ],
     "language": "python",
     "metadata": {},
     "outputs": [
      {
       "html": [
        "<span class='get-type'>Int</span>"
       ],
       "metadata": {},
       "output_type": "display_data",
       "text": [
        "Int"
       ]
      }
     ],
     "prompt_number": 74
    },
    {
     "cell_type": "code",
     "collapsed": false,
     "input": [
      "biggestInt :: Int\n",
      "biggestInt = maxBound\n",
      "smallestInt :: Int\n",
      "smallestInt = minBound"
     ],
     "language": "python",
     "metadata": {},
     "outputs": [],
     "prompt_number": 75
    },
    {
     "cell_type": "code",
     "collapsed": false,
     "input": [
      "(biggestInt, smallestInt)"
     ],
     "language": "python",
     "metadata": {},
     "outputs": [
      {
       "metadata": {},
       "output_type": "display_data",
       "text": [
        "(9223372036854775807,-9223372036854775808)"
       ]
      }
     ],
     "prompt_number": 76
    },
    {
     "cell_type": "markdown",
     "metadata": {},
     "source": [
      "### big integers"
     ]
    },
    {
     "cell_type": "code",
     "collapsed": false,
     "input": [
      "reallyBig :: Integer\n",
      "reallyBig = 2^(2^(2^(2^2)))"
     ],
     "language": "python",
     "metadata": {},
     "outputs": [],
     "prompt_number": 77
    },
    {
     "cell_type": "code",
     "collapsed": false,
     "input": [
      "numDigits :: Int\n",
      "numDigits = length (show reallyBig)"
     ],
     "language": "python",
     "metadata": {},
     "outputs": [],
     "prompt_number": 78
    },
    {
     "cell_type": "code",
     "collapsed": false,
     "input": [
      "numDigits"
     ],
     "language": "python",
     "metadata": {},
     "outputs": [
      {
       "metadata": {},
       "output_type": "display_data",
       "text": [
        "19729"
       ]
      }
     ],
     "prompt_number": 79
    },
    {
     "cell_type": "markdown",
     "metadata": {},
     "source": [
      "### Floating point"
     ]
    },
    {
     "cell_type": "code",
     "collapsed": false,
     "input": [
      "d1 :: Double\n",
      "d1 = 4.5387\n",
      "d2 :: Double\n",
      "d2 = 6.2831e-4"
     ],
     "language": "python",
     "metadata": {},
     "outputs": [],
     "prompt_number": 80
    },
    {
     "cell_type": "code",
     "collapsed": false,
     "input": [
      "(d1, d2)"
     ],
     "language": "python",
     "metadata": {},
     "outputs": [
      {
       "metadata": {},
       "output_type": "display_data",
       "text": [
        "(4.5387,6.2831e-4)"
       ]
      }
     ],
     "prompt_number": 81
    },
    {
     "cell_type": "markdown",
     "metadata": {},
     "source": [
      "### Booleans"
     ]
    },
    {
     "cell_type": "code",
     "collapsed": false,
     "input": [
      "b1 :: Bool\n",
      "b1 = True\n",
      "\n",
      "b1"
     ],
     "language": "python",
     "metadata": {},
     "outputs": [
      {
       "metadata": {},
       "output_type": "display_data",
       "text": [
        "True"
       ]
      }
     ],
     "prompt_number": 82
    },
    {
     "cell_type": "markdown",
     "metadata": {},
     "source": [
      "### Unicode"
     ]
    },
    {
     "cell_type": "code",
     "collapsed": false,
     "input": [
      "c1 :: Char\n",
      "c1 = 'x'\n",
      "c1"
     ],
     "language": "python",
     "metadata": {},
     "outputs": [
      {
       "metadata": {},
       "output_type": "display_data",
       "text": [
        "'x'"
       ]
      }
     ],
     "prompt_number": 83
    },
    {
     "cell_type": "markdown",
     "metadata": {},
     "source": [
      "### Arithmetic"
     ]
    },
    {
     "cell_type": "code",
     "collapsed": false,
     "input": [
      "(3 + 2, 19 - 27, 2.25 * 8.6, 8.7 / 3.1)"
     ],
     "language": "python",
     "metadata": {},
     "outputs": [
      {
       "metadata": {},
       "output_type": "display_data",
       "text": [
        "(5,-8,19.349999999999998,2.8064516129032255)"
       ]
      }
     ],
     "prompt_number": 84
    },
    {
     "cell_type": "code",
     "collapsed": false,
     "input": [
      "mod 19 3\n",
      "19 `mod` 3"
     ],
     "language": "python",
     "metadata": {},
     "outputs": [
      {
       "metadata": {},
       "output_type": "display_data",
       "text": [
        "1"
       ]
      },
      {
       "metadata": {},
       "output_type": "display_data",
       "text": [
        "1"
       ]
      }
     ],
     "prompt_number": 85
    },
    {
     "cell_type": "code",
     "collapsed": false,
     "input": [
      "7 ^ 222"
     ],
     "language": "python",
     "metadata": {},
     "outputs": [
      {
       "metadata": {},
       "output_type": "display_data",
       "text": [
        "40903915558252355961885564235233827390274916808670721972378015470397485101670867316479654900404204284975885535566242786061025593172032118590958393531614633803778811048702555046770492868049"
       ]
      }
     ],
     "prompt_number": 86
    },
    {
     "cell_type": "code",
     "collapsed": false,
     "input": [
      "(-3) * (-7)"
     ],
     "language": "python",
     "metadata": {},
     "outputs": [
      {
       "metadata": {},
       "output_type": "display_data",
       "text": [
        "21"
       ]
      }
     ],
     "prompt_number": 87
    },
    {
     "cell_type": "markdown",
     "metadata": {},
     "source": [
      "fromIntegral is necessary to convert x (Int) to any other numeric type"
     ]
    },
    {
     "cell_type": "code",
     "collapsed": false,
     "input": [
      "fromIntegral x + 3.45"
     ],
     "language": "python",
     "metadata": {},
     "outputs": [
      {
       "metadata": {},
       "output_type": "display_data",
       "text": [
        "6.45"
       ]
      }
     ],
     "prompt_number": 88
    },
    {
     "cell_type": "code",
     "collapsed": false,
     "input": [
      "-- x / 3 does not work\n",
      "x `div` 3"
     ],
     "language": "python",
     "metadata": {},
     "outputs": [
      {
       "metadata": {},
       "output_type": "display_data",
       "text": [
        "1"
       ]
      }
     ],
     "prompt_number": 89
    },
    {
     "cell_type": "markdown",
     "metadata": {},
     "source": [
      "### Boolean logic"
     ]
    },
    {
     "cell_type": "code",
     "collapsed": false,
     "input": [
      "ex11 = True && False\n",
      "ex12 = not (False || True)\n",
      "ex12"
     ],
     "language": "python",
     "metadata": {},
     "outputs": [
      {
       "html": [
        " <div class=\"suggestion-name\" style=\"clear:both;\"> Evaluate</div>  <div class=\"suggestion-row\" style=\"float: left;\"> <div class=\"suggestion-error\">Found:</div>  <div class=\"highlight-code\" id=\"haskell\">  True && False\n",
        "</div> </div>  <div class=\"suggestion-row\" style=\"float: left;\"> <div class=\"suggestion-error\">Why Not:</div>  <div class=\"highlight-code\" id=\"haskell\">  False\n",
        "</div> </div>  <div class=\"suggestion-name\" style=\"clear:both;\"> Evaluate</div>  <div class=\"suggestion-row\" style=\"float: left;\"> <div class=\"suggestion-error\">Found:</div>  <div class=\"highlight-code\" id=\"haskell\">  False || True\n",
        "</div> </div>  <div class=\"suggestion-row\" style=\"float: left;\"> <div class=\"suggestion-error\">Why Not:</div>  <div class=\"highlight-code\" id=\"haskell\">  True\n",
        "</div> </div> "
       ],
       "metadata": {},
       "output_type": "display_data",
       "text": [
        "Line 1:  Evaluate\n",
        "Found:\n",
        "  True && False\n",
        "\n",
        "Why not:\n",
        "  False\n",
        "Line 2:  Evaluate\n",
        "Found:\n",
        "  False || True\n",
        "\n",
        "Why not:\n",
        "  True"
       ]
      },
      {
       "metadata": {},
       "output_type": "display_data",
       "text": [
        "False"
       ]
      }
     ],
     "prompt_number": 90
    },
    {
     "cell_type": "code",
     "collapsed": false,
     "input": [
      "ex13 = 'a' == 'a'\n",
      "ex13\n",
      "ex14 = 16 /= 3\n",
      "ex14\n",
      "ex15 = (5 > 3) && ('p' <= 'q')\n",
      "ex15\n",
      "ex16 = \"Haskell\" > \"C++\"\n",
      "ex16"
     ],
     "language": "python",
     "metadata": {},
     "outputs": [
      {
       "metadata": {},
       "output_type": "display_data",
       "text": [
        "True"
       ]
      },
      {
       "metadata": {},
       "output_type": "display_data",
       "text": [
        "True"
       ]
      },
      {
       "metadata": {},
       "output_type": "display_data",
       "text": [
        "True"
       ]
      },
      {
       "metadata": {},
       "output_type": "display_data",
       "text": [
        "True"
       ]
      }
     ],
     "prompt_number": 91
    },
    {
     "cell_type": "code",
     "collapsed": false,
     "input": [
      "ifexpr = if \"apple\" < \"onion\" then \"doctor away\" else \"everyone away\"\n",
      "ifexpr"
     ],
     "language": "python",
     "metadata": {},
     "outputs": [
      {
       "metadata": {},
       "output_type": "display_data",
       "text": [
        "\"doctor away\""
       ]
      }
     ],
     "prompt_number": 92
    },
    {
     "cell_type": "markdown",
     "metadata": {},
     "source": [
      "### Basic functions"
     ]
    },
    {
     "cell_type": "code",
     "collapsed": false,
     "input": [
      "-- sum of the integers from 1 to n\n",
      "sumtorial :: Integer -> Integer\n",
      "sumtorial 0 = 0\n",
      "sumtorial n = n + sumtorial (n - 1)\n",
      "sumtorial 4"
     ],
     "language": "python",
     "metadata": {},
     "outputs": [
      {
       "metadata": {},
       "output_type": "display_data",
       "text": [
        "10"
       ]
      }
     ],
     "prompt_number": 93
    },
    {
     "cell_type": "code",
     "collapsed": false,
     "input": [
      "hailstone :: Integer -> Integer\n",
      "hailstone n\n",
      "    | n `mod` 2 == 0 = n `div` 2\n",
      "    | otherwise      = 3 * n + 1\n",
      "hailstone 5"
     ],
     "language": "python",
     "metadata": {},
     "outputs": [
      {
       "metadata": {},
       "output_type": "display_data",
       "text": [
        "16"
       ]
      }
     ],
     "prompt_number": 94
    },
    {
     "cell_type": "code",
     "collapsed": false,
     "input": [
      "isEven :: Integer -> Bool\n",
      "isEven n\n",
      "    | n `mod` 2 == 0 = True\n",
      "    | otherwise      = False\n",
      "\n",
      "isEven2 :: Integer -> Bool\n",
      "isEven2 n = n `mod` 2 == 0\n",
      "\n",
      "isEven 5\n",
      "isEven2 5"
     ],
     "language": "python",
     "metadata": {},
     "outputs": [
      {
       "metadata": {},
       "output_type": "display_data",
       "text": [
        "False"
       ]
      },
      {
       "metadata": {},
       "output_type": "display_data",
       "text": [
        "False"
       ]
      }
     ],
     "prompt_number": 95
    },
    {
     "cell_type": "markdown",
     "metadata": {},
     "source": [
      "### Pairs"
     ]
    },
    {
     "cell_type": "code",
     "collapsed": false,
     "input": [
      "p :: (Int, Char)\n",
      "p = (3, 'x')"
     ],
     "language": "python",
     "metadata": {},
     "outputs": [],
     "prompt_number": 96
    },
    {
     "cell_type": "code",
     "collapsed": false,
     "input": [
      "sumPair :: (Int, Int) -> Int\n",
      "sumPair (x, y) = x + y\n",
      "\n",
      "sumPair (3, 5)"
     ],
     "language": "python",
     "metadata": {},
     "outputs": [
      {
       "metadata": {},
       "output_type": "display_data",
       "text": [
        "8"
       ]
      }
     ],
     "prompt_number": 97
    },
    {
     "cell_type": "markdown",
     "metadata": {},
     "source": [
      "### Multiple arguments"
     ]
    },
    {
     "cell_type": "code",
     "collapsed": false,
     "input": [
      "f :: Int -> Int -> Int -> Int\n",
      "f x y z = x + y + z\n",
      "\n",
      "f 1 2 3"
     ],
     "language": "python",
     "metadata": {},
     "outputs": [
      {
       "metadata": {},
       "output_type": "display_data",
       "text": [
        "6"
       ]
      }
     ],
     "prompt_number": 98
    },
    {
     "cell_type": "markdown",
     "metadata": {},
     "source": [
      "### Lists"
     ]
    },
    {
     "cell_type": "code",
     "collapsed": false,
     "input": [
      "nums :: [Int]\n",
      "nums = [1, 2, 3, 4]\n",
      "\n",
      "range :: [Int]\n",
      "range = [1..10]\n",
      "\n",
      "range2 :: [Int]\n",
      "range2 = [3, 5..10]\n",
      "\n",
      "nums\n",
      "range\n",
      "range2"
     ],
     "language": "python",
     "metadata": {},
     "outputs": [
      {
       "metadata": {},
       "output_type": "display_data",
       "text": [
        "[1,2,3,4]"
       ]
      },
      {
       "metadata": {},
       "output_type": "display_data",
       "text": [
        "[1,2,3,4,5,6,7,8,9,10]"
       ]
      },
      {
       "metadata": {},
       "output_type": "display_data",
       "text": [
        "[3,5,7,9]"
       ]
      }
     ],
     "prompt_number": 99
    },
    {
     "cell_type": "code",
     "collapsed": false,
     "input": [
      "hello1 :: [Char]\n",
      "hello1 = ['h', 'e', 'l', 'l', 'o']\n",
      "\n",
      "hello2 :: String\n",
      "hello2 = \"hello\"\n",
      "\n",
      "helloSame = hello1 == hello2\n",
      "helloSame"
     ],
     "language": "python",
     "metadata": {},
     "outputs": [
      {
       "html": [
        " <div class=\"suggestion-name\" style=\"clear:both;\"> Use String</div>  <div class=\"suggestion-row\" style=\"float: left;\"> <div class=\"suggestion-warning\">Found:</div>  <div class=\"highlight-code\" id=\"haskell\">  [Char]\n",
        "</div> </div>  <div class=\"suggestion-row\" style=\"float: left;\"> <div class=\"suggestion-warning\">Why Not:</div>  <div class=\"highlight-code\" id=\"haskell\">  String\n",
        "</div> </div>  <div class=\"suggestion-name\" style=\"clear:both;\"> Use string literal</div>  <div class=\"suggestion-row\" style=\"float: left;\"> <div class=\"suggestion-warning\">Found:</div>  <div class=\"highlight-code\" id=\"haskell\">  ['h', 'e', 'l', 'l', 'o']\n",
        "</div> </div>  <div class=\"suggestion-row\" style=\"float: left;\"> <div class=\"suggestion-warning\">Why Not:</div>  <div class=\"highlight-code\" id=\"haskell\">  \"hello\"\n",
        "</div> </div> "
       ],
       "metadata": {},
       "output_type": "display_data",
       "text": [
        "Line 1:  Use String\n",
        "Found:\n",
        "  [Char]\n",
        "\n",
        "Why not:\n",
        "  String\n",
        "Line 2:  Use string literal\n",
        "Found:\n",
        "  ['h', 'e', 'l', 'l', 'o']\n",
        "\n",
        "Why not:\n",
        "  \"hello\""
       ]
      },
      {
       "metadata": {},
       "output_type": "display_data",
       "text": [
        "True"
       ]
      }
     ],
     "prompt_number": 100
    },
    {
     "cell_type": "markdown",
     "metadata": {},
     "source": [
      "### Constructing lists"
     ]
    },
    {
     "cell_type": "code",
     "collapsed": false,
     "input": [
      "emptyList = []\n",
      "\n",
      "list1 = 1 : []\n",
      "list2 = 1 : 2 : []\n",
      "list3 = [1, 2, 3]\n",
      "\n",
      "list1\n",
      "list2\n",
      "list3"
     ],
     "language": "python",
     "metadata": {},
     "outputs": [
      {
       "html": [
        " <div class=\"suggestion-name\" style=\"clear:both;\"> Use list literal</div>  <div class=\"suggestion-row\" style=\"float: left;\"> <div class=\"suggestion-warning\">Found:</div>  <div class=\"highlight-code\" id=\"haskell\">  1 : []\n",
        "</div> </div>  <div class=\"suggestion-row\" style=\"float: left;\"> <div class=\"suggestion-warning\">Why Not:</div>  <div class=\"highlight-code\" id=\"haskell\">  [1]\n",
        "</div> </div>  <div class=\"suggestion-name\" style=\"clear:both;\"> Use list literal</div>  <div class=\"suggestion-row\" style=\"float: left;\"> <div class=\"suggestion-warning\">Found:</div>  <div class=\"highlight-code\" id=\"haskell\">  1 : 2 : []\n",
        "</div> </div>  <div class=\"suggestion-row\" style=\"float: left;\"> <div class=\"suggestion-warning\">Why Not:</div>  <div class=\"highlight-code\" id=\"haskell\">  [1, 2]\n",
        "</div> </div> "
       ],
       "metadata": {},
       "output_type": "display_data",
       "text": [
        "Line 3:  Use list literal\n",
        "Found:\n",
        "  1 : []\n",
        "\n",
        "Why not:\n",
        "  [1]\n",
        "Line 4:  Use list literal\n",
        "Found:\n",
        "  1 : 2 : []\n",
        "\n",
        "Why not:\n",
        "  [1, 2]"
       ]
      },
      {
       "metadata": {},
       "output_type": "display_data",
       "text": [
        "[1]"
       ]
      },
      {
       "metadata": {},
       "output_type": "display_data",
       "text": [
        "[1,2]"
       ]
      },
      {
       "metadata": {},
       "output_type": "display_data",
       "text": [
        "[1,2,3]"
       ]
      }
     ],
     "prompt_number": 101
    },
    {
     "cell_type": "code",
     "collapsed": false,
     "input": [
      "hailstoneSeq :: Integer -> [Integer]\n",
      "hailstoneSeq 1 = [1]\n",
      "hailstoneSeq n = n : hailstoneSeq (hailstone n)\n",
      "\n",
      "hailstoneSeq 100"
     ],
     "language": "python",
     "metadata": {},
     "outputs": [
      {
       "metadata": {},
       "output_type": "display_data",
       "text": [
        "[100,50,25,76,38,19,58,29,88,44,22,11,34,17,52,26,13,40,20,10,5,16,8,4,2,1]"
       ]
      }
     ],
     "prompt_number": 113
    },
    {
     "cell_type": "markdown",
     "metadata": {},
     "source": [
      "### Functions on lists"
     ]
    },
    {
     "cell_type": "code",
     "collapsed": false,
     "input": [
      "-- compute length of list\n",
      "initListLength :: [Integer] -> Integer\n",
      "initListLength []     = 0\n",
      "initListLength (x:xs) = 1 + initListLength xs\n",
      "\n",
      "initListLength [2, 3, 4, 5]"
     ],
     "language": "python",
     "metadata": {},
     "outputs": [
      {
       "html": [
        " <div class=\"suggestion-name\" style=\"clear:both;\"> Use foldr</div>  <div class=\"suggestion-row\" style=\"float: left;\"> <div class=\"suggestion-warning\">Found:</div>  <div class=\"highlight-code\" id=\"haskell\">  initListLength [] = 0\n",
        "  initListLength (x : xs) = 1 + initListLength xs\n",
        "</div> </div>  <div class=\"suggestion-row\" style=\"float: left;\"> <div class=\"suggestion-warning\">Why Not:</div>  <div class=\"highlight-code\" id=\"haskell\">  initListLength xs = foldr (\\ x -> (+) 1) 0 xs\n",
        "</div> </div> "
       ],
       "metadata": {},
       "output_type": "display_data",
       "text": [
        "Line 3:  Use foldr\n",
        "Found:\n",
        "  initListLength [] = 0\n",
        "  initListLength (x : xs) = 1 + initListLength xs\n",
        "\n",
        "Why not:\n",
        "  initListLength xs = foldr (\\ x -> (+) 1) 0 xs"
       ]
      },
      {
       "metadata": {},
       "output_type": "display_data",
       "text": [
        "4"
       ]
      }
     ],
     "prompt_number": 118
    },
    {
     "cell_type": "markdown",
     "metadata": {},
     "source": [
      "### Combining functions"
     ]
    },
    {
     "cell_type": "code",
     "collapsed": false,
     "input": [
      "-- number of steps to reach 1 for the hailstone sequence\n",
      "hailstoneLen :: Integer -> Integer\n",
      "hailstoneLen n = initListLength (hailstoneSeq n) - 1\n",
      "\n",
      "hailstoneLen 100"
     ],
     "language": "python",
     "metadata": {},
     "outputs": [
      {
       "metadata": {},
       "output_type": "display_data",
       "text": [
        "25"
       ]
      }
     ],
     "prompt_number": 121
    },
    {
     "cell_type": "code",
     "collapsed": false,
     "input": [
      "hailstonePair :: Integer -> (Integer, Integer)\n",
      "hailstonePair x = (hailstoneLen x, x)\n",
      "\n",
      "hailstonePairList = map hailstonePair [8193..9999]"
     ],
     "language": "python",
     "metadata": {},
     "outputs": [],
     "prompt_number": 172
    },
    {
     "cell_type": "code",
     "collapsed": false,
     "input": [
      "import Data.List"
     ],
     "language": "python",
     "metadata": {},
     "outputs": [],
     "prompt_number": 173
    },
    {
     "cell_type": "code",
     "collapsed": false,
     "input": [
      "take 5 (sort hailstonePairList)"
     ],
     "language": "python",
     "metadata": {},
     "outputs": [
      {
       "metadata": {},
       "output_type": "display_data",
       "text": [
        "[(21,8704),(21,8832),(21,8864),(21,8872),(21,8874)]"
       ]
      }
     ],
     "prompt_number": 174
    },
    {
     "cell_type": "code",
     "collapsed": false,
     "input": [],
     "language": "python",
     "metadata": {},
     "outputs": []
    }
   ],
   "metadata": {}
  }
 ]
}