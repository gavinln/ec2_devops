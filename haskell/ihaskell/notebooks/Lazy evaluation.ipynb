{
 "metadata": {
  "language": "haskell",
  "name": "",
  "signature": "sha256:a9aeeeadc2dc5f24e433651a6f0de440018bd7d726dc3eb2bec65280fc29b248"
 },
 "nbformat": 3,
 "nbformat_minor": 0,
 "worksheets": [
  {
   "cells": [
    {
     "cell_type": "code",
     "collapsed": false,
     "input": [
      "repeat :: a -> [a]\n",
      "repeat x = x : repeat x"
     ],
     "language": "python",
     "metadata": {},
     "outputs": [],
     "prompt_number": 1
    },
    {
     "cell_type": "code",
     "collapsed": false,
     "input": [
      "take :: Int -> [a] -> [a]\n",
      "take n _   | n <= 0 = []\n",
      "take _ []          = []\n",
      "take n (x:xs)      = x : take (n - 1) xs"
     ],
     "language": "python",
     "metadata": {},
     "outputs": [],
     "prompt_number": 2
    },
    {
     "cell_type": "code",
     "collapsed": false,
     "input": [
      "take 3 (repeat 'a')"
     ],
     "language": "python",
     "metadata": {},
     "outputs": [
      {
       "html": [
        " <div class=\"suggestion-name\" style=\"clear:both;\"> Use replicate</div>  <div class=\"suggestion-row\" style=\"float: left;\"> <div class=\"suggestion-error\">Found:</div>  <div class=\"highlight-code\" id=\"haskell\">  take 3 (repeat 'a')\n",
        "</div> </div>  <div class=\"suggestion-row\" style=\"float: left;\"> <div class=\"suggestion-error\">Why Not:</div>  <div class=\"highlight-code\" id=\"haskell\">  replicate 3 'a'\n",
        "</div> </div> "
       ],
       "metadata": {},
       "output_type": "display_data",
       "text": [
        "Line 1:  Use replicate\n",
        "Found:\n",
        "  take 3 (repeat 'a')\n",
        "\n",
        "Why not:\n",
        "  replicate 3 'a'"
       ]
      },
      {
       "metadata": {},
       "output_type": "display_data",
       "text": [
        "\"aaa\""
       ]
      }
     ],
     "prompt_number": 7
    },
    {
     "cell_type": "code",
     "collapsed": false,
     "input": [
      "False && (head [] == 'x')"
     ],
     "language": "python",
     "metadata": {},
     "outputs": [
      {
       "html": [
        " <div class=\"suggestion-name\" style=\"clear:both;\"> Evaluate</div>  <div class=\"suggestion-row\" style=\"float: left;\"> <div class=\"suggestion-error\">Found:</div>  <div class=\"highlight-code\" id=\"haskell\">  False && (head [] == 'x')\n",
        "</div> </div>  <div class=\"suggestion-row\" style=\"float: left;\"> <div class=\"suggestion-error\">Why Not:</div>  <div class=\"highlight-code\" id=\"haskell\">  False\n",
        "</div> </div> "
       ],
       "metadata": {},
       "output_type": "display_data",
       "text": [
        "Line 1:  Evaluate\n",
        "Found:\n",
        "  False && (head [] == 'x')\n",
        "\n",
        "Why not:\n",
        "  False"
       ]
      },
      {
       "metadata": {},
       "output_type": "display_data",
       "text": [
        "False"
       ]
      }
     ],
     "prompt_number": 8
    },
    {
     "cell_type": "markdown",
     "metadata": {},
     "source": [
      "### Non shortcircuiting operators"
     ]
    },
    {
     "cell_type": "code",
     "collapsed": false,
     "input": [
      "(&&!) :: Bool -> Bool -> Bool\n",
      "True &&! True = True\n",
      "True &&! False = False\n",
      "False &&! True = False\n",
      "False &&! False = False"
     ],
     "language": "python",
     "metadata": {},
     "outputs": [],
     "prompt_number": 11
    },
    {
     "cell_type": "code",
     "collapsed": false,
     "input": [
      "-- will crash\n",
      "False &&! (head [] == 'x')"
     ],
     "language": "python",
     "metadata": {},
     "outputs": [
      {
       "html": [
        "<span class='err-msg'>Prelude.head: empty list</span>"
       ],
       "metadata": {},
       "output_type": "display_data",
       "text": [
        "Prelude.head: empty list"
       ]
      }
     ],
     "prompt_number": 13
    },
    {
     "cell_type": "code",
     "collapsed": false,
     "input": [
      "if' :: Bool -> a -> a -> a\n",
      "if' True x _ = x\n",
      "if' False _ y = y"
     ],
     "language": "python",
     "metadata": {},
     "outputs": [],
     "prompt_number": 15
    },
    {
     "cell_type": "code",
     "collapsed": false,
     "input": [],
     "language": "python",
     "metadata": {},
     "outputs": []
    }
   ],
   "metadata": {}
  }
 ]
}