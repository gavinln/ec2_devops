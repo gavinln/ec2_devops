{
 "metadata": {
  "language": "haskell",
  "name": "",
  "signature": "sha256:542830b806710915a287452141ce8af5c76c4bd238ee910ecb77ad6f555cd021"
 },
 "nbformat": 3,
 "nbformat_minor": 0,
 "worksheets": [
  {
   "cells": [
    {
     "cell_type": "markdown",
     "metadata": {},
     "source": [
      "## Parametricity"
     ]
    },
    {
     "cell_type": "code",
     "collapsed": false,
     "input": [
      "-- Does not work\n",
      "f :: a -> a -> a\n",
      "f x y = x && y"
     ],
     "language": "python",
     "metadata": {},
     "outputs": [
      {
       "html": [
        "<span class='err-msg'>Couldn't match expected type `a' with actual type `Bool'<br/>  `a' is a rigid type variable bound by the type signature for f :: a -> a -> a at <interactive>:1:6<br/>In the expression: x && y<br/>In an equation for `f': f x y = x && y</span>"
       ],
       "metadata": {},
       "output_type": "display_data",
       "text": [
        "Couldn't match expected type `a' with actual type `Bool'\n",
        "  `a' is a rigid type variable bound by the type signature for f :: a -> a -> a at <interactive>:1:6\n",
        "In the expression: x && y\n",
        "In an equation for `f': f x y = x && y"
       ]
      }
     ],
     "prompt_number": 1
    },
    {
     "cell_type": "code",
     "collapsed": false,
     "input": [
      "-- works\n",
      "f1 :: a -> a -> a\n",
      "f1 x y = x\n",
      "\n",
      "f2 :: a -> a -> a\n",
      "f2 x y = y"
     ],
     "language": "python",
     "metadata": {},
     "outputs": [],
     "prompt_number": 2
    },
    {
     "cell_type": "code",
     "collapsed": false,
     "input": [
      ":t (+)"
     ],
     "language": "python",
     "metadata": {},
     "outputs": [
      {
       "html": [
        "<span class='get-type'>forall a. Num a => a -> a -> a</span>"
       ],
       "metadata": {},
       "output_type": "display_data",
       "text": [
        "forall a. Num a => a -> a -> a"
       ]
      }
     ],
     "prompt_number": 3
    },
    {
     "cell_type": "code",
     "collapsed": false,
     "input": [
      ":t (==)"
     ],
     "language": "python",
     "metadata": {},
     "outputs": [
      {
       "html": [
        "<span class='get-type'>forall a. Eq a => a -> a -> Bool</span>"
       ],
       "metadata": {},
       "output_type": "display_data",
       "text": [
        "forall a. Eq a => a -> a -> Bool"
       ]
      }
     ],
     "prompt_number": 4
    },
    {
     "cell_type": "code",
     "collapsed": false,
     "input": [
      ":t (<)"
     ],
     "language": "python",
     "metadata": {},
     "outputs": [
      {
       "html": [
        "<span class='get-type'>forall a. Ord a => a -> a -> Bool</span>"
       ],
       "metadata": {},
       "output_type": "display_data",
       "text": [
        "forall a. Ord a => a -> a -> Bool"
       ]
      }
     ],
     "prompt_number": 5
    },
    {
     "cell_type": "code",
     "collapsed": false,
     "input": [
      ":t show"
     ],
     "language": "python",
     "metadata": {},
     "outputs": [
      {
       "html": [
        "<span class='get-type'>forall a. Show a => a -> String</span>"
       ],
       "metadata": {},
       "output_type": "display_data",
       "text": [
        "forall a. Show a => a -> String"
       ]
      }
     ],
     "prompt_number": 6
    },
    {
     "cell_type": "markdown",
     "metadata": {},
     "source": [
      "## Custom type"
     ]
    },
    {
     "cell_type": "code",
     "collapsed": false,
     "input": [
      "data Foo = F Int | G Char"
     ],
     "language": "python",
     "metadata": {},
     "outputs": [],
     "prompt_number": 7
    },
    {
     "cell_type": "code",
     "collapsed": false,
     "input": [
      "instance Eq Foo where\n",
      "    (F i1) == (F i2) = i1 == i2\n",
      "    (G c1) == (G c2) = c1 == c2\n",
      "    _ == _ = False"
     ],
     "language": "python",
     "metadata": {},
     "outputs": [],
     "prompt_number": 8
    },
    {
     "cell_type": "code",
     "collapsed": false,
     "input": [
      "let a = F 3\n",
      "let b = F 3\n",
      "let c = G 'r'"
     ],
     "language": "python",
     "metadata": {},
     "outputs": [],
     "prompt_number": 9
    },
    {
     "cell_type": "code",
     "collapsed": false,
     "input": [
      "a == b\n",
      "b == c"
     ],
     "language": "python",
     "metadata": {},
     "outputs": [
      {
       "metadata": {},
       "output_type": "display_data",
       "text": [
        "True"
       ]
      },
      {
       "metadata": {},
       "output_type": "display_data",
       "text": [
        "False"
       ]
      }
     ],
     "prompt_number": 10
    },
    {
     "cell_type": "code",
     "collapsed": false,
     "input": [
      "-- let haskell create instances of Eq, Ord, Show\n",
      "data Foo' = F' Int | G' Char\n",
      "    deriving (Eq, Ord, Show)"
     ],
     "language": "python",
     "metadata": {},
     "outputs": [],
     "prompt_number": 11
    },
    {
     "cell_type": "markdown",
     "metadata": {},
     "source": [
      "## Type class"
     ]
    },
    {
     "cell_type": "code",
     "collapsed": false,
     "input": [
      "class Listable a where\n",
      "    toList :: a -> [Int]"
     ],
     "language": "python",
     "metadata": {},
     "outputs": [],
     "prompt_number": 12
    },
    {
     "cell_type": "code",
     "collapsed": false,
     "input": [
      ":info Listable"
     ],
     "language": "python",
     "metadata": {},
     "outputs": [
      {
       "metadata": {},
       "output_type": "display_data"
      }
     ],
     "prompt_number": 13
    },
    {
     "cell_type": "code",
     "collapsed": false,
     "input": [
      ":info Foo"
     ],
     "language": "python",
     "metadata": {},
     "outputs": [
      {
       "metadata": {},
       "output_type": "display_data"
      }
     ],
     "prompt_number": 14
    },
    {
     "cell_type": "markdown",
     "metadata": {},
     "source": [
      "create instances of Listable"
     ]
    },
    {
     "cell_type": "code",
     "collapsed": false,
     "input": [
      "instance Listable Int where\n",
      "    toList x = [x]\n",
      "\n",
      "instance Listable Bool where\n",
      "    toList True  = [1]\n",
      "    toList False = [0]"
     ],
     "language": "python",
     "metadata": {},
     "outputs": [],
     "prompt_number": 15
    },
    {
     "cell_type": "code",
     "collapsed": false,
     "input": [
      "data Weight a = Listable a deriving Show"
     ],
     "language": "python",
     "metadata": {},
     "outputs": [],
     "prompt_number": 21
    },
    {
     "cell_type": "code",
     "collapsed": false,
     "input": [
      "w1 = Listable 3"
     ],
     "language": "python",
     "metadata": {},
     "outputs": [],
     "prompt_number": 22
    },
    {
     "cell_type": "markdown",
     "metadata": {},
     "source": [
      "Flatten a binary tree"
     ]
    },
    {
     "cell_type": "code",
     "collapsed": false,
     "input": [
      ":set -XFlexibleInstances"
     ],
     "language": "python",
     "metadata": {},
     "outputs": [],
     "prompt_number": 30
    },
    {
     "cell_type": "code",
     "collapsed": false,
     "input": [
      "data Tree a = Empty | Node a (Tree a) (Tree a) deriving (Show)"
     ],
     "language": "python",
     "metadata": {},
     "outputs": [],
     "prompt_number": 31
    },
    {
     "cell_type": "code",
     "collapsed": false,
     "input": [
      "instance Listable (Tree Int) where\n",
      "    toList Empty        = []\n",
      "    toList (Node x l r) = toList l ++ [x] ++ toList r"
     ],
     "language": "python",
     "metadata": {},
     "outputs": [],
     "prompt_number": 32
    },
    {
     "cell_type": "markdown",
     "metadata": {},
     "source": [
      "Create a sum function that flattens the tree"
     ]
    },
    {
     "cell_type": "code",
     "collapsed": false,
     "input": [
      "sumL :: Listable a => a -> Int\n",
      "sumL x = sum (toList x)"
     ],
     "language": "python",
     "metadata": {},
     "outputs": [],
     "prompt_number": 33
    },
    {
     "cell_type": "code",
     "collapsed": false,
     "input": [
      "createTree1 :: Tree a\n",
      "createTree1 = Empty"
     ],
     "language": "python",
     "metadata": {},
     "outputs": [],
     "prompt_number": 34
    },
    {
     "cell_type": "code",
     "collapsed": false,
     "input": [
      "createTree2 :: a -> Tree a\n",
      "createTree2 a = Node a Empty Empty"
     ],
     "language": "python",
     "metadata": {},
     "outputs": [],
     "prompt_number": 35
    },
    {
     "cell_type": "code",
     "collapsed": false,
     "input": [
      "t2 = createTree2 2"
     ],
     "language": "python",
     "metadata": {},
     "outputs": [],
     "prompt_number": 36
    },
    {
     "cell_type": "code",
     "collapsed": false,
     "input": [],
     "language": "python",
     "metadata": {},
     "outputs": []
    }
   ],
   "metadata": {}
  }
 ]
}