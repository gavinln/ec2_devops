{
 "metadata": {
  "language": "haskell",
  "name": "",
  "signature": "sha256:542830b806710915a287452141ce8af5c76c4bd238ee910ecb77ad6f555cd021"
 },
 "nbformat": 3,
 "nbformat_minor": 0,
 "worksheets": [
  {
   "cells": [
    {
     "cell_type": "markdown",
     "metadata": {},
     "source": [
      "## Let expressions"
     ]
    },
    {
     "cell_type": "code",
     "collapsed": false,
     "input": [
      "strLength :: String -> Int\n",
      "strLength []     = 0\n",
      "strLength (x:xs) = let len_rest = strLength xs in\n",
      "                   len_rest + 1"
     ],
     "language": "python",
     "metadata": {},
     "outputs": [],
     "prompt_number": 3
    },
    {
     "cell_type": "code",
     "collapsed": false,
     "input": [
      "strLength \"banana\""
     ],
     "language": "python",
     "metadata": {},
     "outputs": [
      {
       "metadata": {},
       "output_type": "display_data",
       "text": [
        "6"
       ]
      }
     ],
     "prompt_number": 6
    },
    {
     "cell_type": "markdown",
     "metadata": {},
     "source": [
      "## Where clauses"
     ]
    },
    {
     "cell_type": "code",
     "collapsed": false,
     "input": [
      "frob :: String -> Char\n",
      "frob [] = 'a'\n",
      "frob str\n",
      "    | len > 5 ='x'\n",
      "    | len < 3 = 'y'\n",
      "    | otherwise = 'z'\n",
      "    where\n",
      "      len = strLength str"
     ],
     "language": "python",
     "metadata": {},
     "outputs": [],
     "prompt_number": 7
    },
    {
     "cell_type": "code",
     "collapsed": false,
     "input": [
      "frob \"quick\""
     ],
     "language": "python",
     "metadata": {},
     "outputs": [
      {
       "metadata": {},
       "output_type": "display_data",
       "text": [
        "'z'"
       ]
      }
     ],
     "prompt_number": 8
    },
    {
     "cell_type": "code",
     "collapsed": false,
     "input": [],
     "language": "python",
     "metadata": {},
     "outputs": []
    }
   ],
   "metadata": {}
  }
 ]
}