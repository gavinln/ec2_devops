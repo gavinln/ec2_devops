{
 "metadata": {
  "language": "haskell",
  "name": "",
  "signature": "sha256:2d7fbab20dc389f75724564f72f8061a04c5fbf5ac12a16eb621b87f0d787d1c"
 },
 "nbformat": 3,
 "nbformat_minor": 0,
 "worksheets": [
  {
   "cells": [
    {
     "cell_type": "code",
     "collapsed": false,
     "input": [
      "putStrLn \"hello\""
     ],
     "language": "python",
     "metadata": {},
     "outputs": [
      {
       "metadata": {},
       "output_type": "display_data",
       "text": [
        "hello"
       ]
      }
     ],
     "prompt_number": 1
    },
    {
     "cell_type": "code",
     "collapsed": false,
     "input": [
      "-- (>>) :: IO a -> IO b -> IO b\n",
      "-- and then\n",
      "putStrLn \"Hello\" >> putStrLn \"world!\""
     ],
     "language": "python",
     "metadata": {},
     "outputs": [
      {
       "metadata": {},
       "output_type": "display_data",
       "text": [
        "Hello\n",
        "world!"
       ]
      }
     ],
     "prompt_number": 2
    },
    {
     "cell_type": "code",
     "collapsed": false,
     "input": [
      "putStr \"Hello\" >> putStr \"world!\""
     ],
     "language": "python",
     "metadata": {},
     "outputs": [
      {
       "metadata": {},
       "output_type": "display_data",
       "text": [
        "Helloworld!"
       ]
      }
     ],
     "prompt_number": 3
    },
    {
     "cell_type": "code",
     "collapsed": false,
     "input": [
      "-- (>>=) :: IO a -> (a -> IO b) -> IO b\n",
      "-- bind\n",
      "putStrLn \"Please enter a number: \" >> (getLine >>= (\\n -> putStrLn (show n)))"
     ],
     "language": "python",
     "metadata": {},
     "outputs": [
      {
       "html": [
        " <div class=\"suggestion-name\" style=\"clear:both;\"> Avoid lambda</div>  <div class=\"suggestion-row\" style=\"float: left;\"> <div class=\"suggestion-warning\">Found:</div>  <div class=\"highlight-code\" id=\"haskell\">  \\ n -> putStrLn (show n)\n",
        "</div> </div>  <div class=\"suggestion-row\" style=\"float: left;\"> <div class=\"suggestion-warning\">Why Not:</div>  <div class=\"highlight-code\" id=\"haskell\">  putStrLn . show\n",
        "</div> </div>  <div class=\"suggestion-name\" style=\"clear:both;\"> Use print</div>  <div class=\"suggestion-row\" style=\"float: left;\"> <div class=\"suggestion-error\">Found:</div>  <div class=\"highlight-code\" id=\"haskell\">  putStrLn (show n)\n",
        "</div> </div>  <div class=\"suggestion-row\" style=\"float: left;\"> <div class=\"suggestion-error\">Why Not:</div>  <div class=\"highlight-code\" id=\"haskell\">  print n\n",
        "</div> </div> "
       ],
       "metadata": {},
       "output_type": "display_data",
       "text": [
        "Line 3:  Avoid lambda\n",
        "Found:\n",
        "  \\ n -> putStrLn (show n)\n",
        "\n",
        "Why not:\n",
        "  putStrLn . show\n",
        "Line 3:  Use print\n",
        "Found:\n",
        "  putStrLn (show n)\n",
        "\n",
        "Why not:\n",
        "  print n"
       ]
      },
      {
       "metadata": {},
       "output_type": "display_data",
       "text": [
        "Please enter a number: \n",
        "\"23\""
       ]
      }
     ],
     "prompt_number": 23
    },
    {
     "cell_type": "markdown",
     "metadata": {},
     "source": [
      "## Record syntax"
     ]
    },
    {
     "cell_type": "code",
     "collapsed": false,
     "input": [
      "data D = D Int String Char"
     ],
     "language": "python",
     "metadata": {},
     "outputs": [],
     "prompt_number": 48
    },
    {
     "cell_type": "code",
     "collapsed": false,
     "input": [
      "data D' = D' { height::Int, name::String, firstInitial::Char} deriving (Show)"
     ],
     "language": "python",
     "metadata": {},
     "outputs": [],
     "prompt_number": 49
    },
    {
     "cell_type": "code",
     "collapsed": false,
     "input": [
      "person1 :: D'\n",
      "person1 = D' {height=178, name=\"Smith\", firstInitial='B'}"
     ],
     "language": "python",
     "metadata": {},
     "outputs": [],
     "prompt_number": 51
    },
    {
     "cell_type": "code",
     "collapsed": false,
     "input": [
      "person1"
     ],
     "language": "python",
     "metadata": {},
     "outputs": [
      {
       "metadata": {},
       "output_type": "display_data",
       "text": [
        "D' {height = 178, name = \"Smith\", firstInitial = 'B'}"
       ]
      }
     ],
     "prompt_number": 52
    },
    {
     "cell_type": "code",
     "collapsed": false,
     "input": [
      "height person1\n",
      "name person1\n",
      "firstInitial person1"
     ],
     "language": "python",
     "metadata": {},
     "outputs": [
      {
       "metadata": {},
       "output_type": "display_data",
       "text": [
        "178"
       ]
      },
      {
       "metadata": {},
       "output_type": "display_data",
       "text": [
        "\"Smith\""
       ]
      },
      {
       "metadata": {},
       "output_type": "display_data",
       "text": [
        "'B'"
       ]
      }
     ],
     "prompt_number": 54
    },
    {
     "cell_type": "code",
     "collapsed": false,
     "input": [],
     "language": "python",
     "metadata": {},
     "outputs": []
    }
   ],
   "metadata": {}
  }
 ]
}