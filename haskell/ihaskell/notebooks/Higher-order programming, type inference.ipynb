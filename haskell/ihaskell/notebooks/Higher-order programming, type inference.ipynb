{
 "metadata": {
  "language": "haskell",
  "name": "",
  "signature": "sha256:95e2eb4180dcf52d7c7b8fb0d92865c33b61bc504402f1fb0e6b04362b28cbe9"
 },
 "nbformat": 3,
 "nbformat_minor": 0,
 "worksheets": [
  {
   "cells": [
    {
     "cell_type": "markdown",
     "metadata": {},
     "source": [
      "## Anonymous functions"
     ]
    },
    {
     "cell_type": "code",
     "collapsed": false,
     "input": [
      "gt100 :: Integer -> Bool\n",
      "gt100 x = x > 100"
     ],
     "language": "python",
     "metadata": {},
     "outputs": [],
     "prompt_number": 2
    },
    {
     "cell_type": "code",
     "collapsed": false,
     "input": [
      "greaterThan100 :: [Integer] -> [Integer]\n",
      "greaterThan100 = filter gt100"
     ],
     "language": "python",
     "metadata": {},
     "outputs": [],
     "prompt_number": 8
    },
    {
     "cell_type": "code",
     "collapsed": false,
     "input": [
      "greaterThan100 [1, 9, 349, 6, 907, 98, 105]"
     ],
     "language": "python",
     "metadata": {},
     "outputs": [
      {
       "metadata": {},
       "output_type": "display_data",
       "text": [
        "[349,907,105]"
       ]
      }
     ],
     "prompt_number": 9
    },
    {
     "cell_type": "markdown",
     "metadata": {},
     "source": [
      "### Using lambdas"
     ]
    },
    {
     "cell_type": "code",
     "collapsed": false,
     "input": [
      "greaterThan100_2 :: [Integer] -> [Integer]\n",
      "greaterThan100_2 = filter (\\x -> x > 100)"
     ],
     "language": "python",
     "metadata": {},
     "outputs": [
      {
       "html": [
        " <div class=\"suggestion-name\" style=\"clear:both;\"> Use camelCase</div>  <div class=\"suggestion-row\" style=\"float: left;\"> <div class=\"suggestion-warning\">Found:</div>  <div class=\"highlight-code\" id=\"haskell\">  greaterThan100_2 = ...\n",
        "</div> </div>  <div class=\"suggestion-row\" style=\"float: left;\"> <div class=\"suggestion-warning\">Why Not:</div>  <div class=\"highlight-code\" id=\"haskell\">  greaterThan1002 = ...\n",
        "</div> </div>  <div class=\"suggestion-name\" style=\"clear:both;\"> Avoid lambda</div>  <div class=\"suggestion-row\" style=\"float: left;\"> <div class=\"suggestion-warning\">Found:</div>  <div class=\"highlight-code\" id=\"haskell\">  \\ x -> x > 100\n",
        "</div> </div>  <div class=\"suggestion-row\" style=\"float: left;\"> <div class=\"suggestion-warning\">Why Not:</div>  <div class=\"highlight-code\" id=\"haskell\">  (> 100)\n",
        "</div> </div> "
       ],
       "metadata": {},
       "output_type": "display_data",
       "text": [
        "Line 2:  Use camelCase\n",
        "Found:\n",
        "  greaterThan100_2 = ...\n",
        "\n",
        "Why not:\n",
        "  greaterThan1002 = ...\n",
        "Line 2:  Avoid lambda\n",
        "Found:\n",
        "  \\ x -> x > 100\n",
        "\n",
        "Why not:\n",
        "  (> 100)"
       ]
      }
     ],
     "prompt_number": 11
    },
    {
     "cell_type": "code",
     "collapsed": false,
     "input": [
      "greaterThan100_3 :: [Integer] -> [Integer]\n",
      "greaterThan100_3 = filter (> 100)"
     ],
     "language": "python",
     "metadata": {},
     "outputs": [
      {
       "html": [
        " <div class=\"suggestion-name\" style=\"clear:both;\"> Use camelCase</div>  <div class=\"suggestion-row\" style=\"float: left;\"> <div class=\"suggestion-warning\">Found:</div>  <div class=\"highlight-code\" id=\"haskell\">  greaterThan100_3 = ...\n",
        "</div> </div>  <div class=\"suggestion-row\" style=\"float: left;\"> <div class=\"suggestion-warning\">Why Not:</div>  <div class=\"highlight-code\" id=\"haskell\">  greaterThan1003 = ...\n",
        "</div> </div> "
       ],
       "metadata": {},
       "output_type": "display_data",
       "text": [
        "Line 2:  Use camelCase\n",
        "Found:\n",
        "  greaterThan100_3 = ...\n",
        "\n",
        "Why not:\n",
        "  greaterThan1003 = ..."
       ]
      }
     ],
     "prompt_number": 16
    },
    {
     "cell_type": "markdown",
     "metadata": {},
     "source": [
      "## Function composition"
     ]
    },
    {
     "cell_type": "code",
     "collapsed": false,
     "input": [
      "myTest :: [Integer] -> Bool\n",
      "myTest xs = even (length (greaterThan100 xs))"
     ],
     "language": "python",
     "metadata": {},
     "outputs": [],
     "prompt_number": 22
    },
    {
     "cell_type": "code",
     "collapsed": false,
     "input": [
      "myTest' :: [Integer] -> Bool\n",
      "myTest' = even . length . greaterThan100"
     ],
     "language": "python",
     "metadata": {},
     "outputs": [],
     "prompt_number": 24
    },
    {
     "cell_type": "code",
     "collapsed": false,
     "input": [
      ":t (.)"
     ],
     "language": "python",
     "metadata": {},
     "outputs": [
      {
       "html": [
        "<span class='get-type'>forall b c a. (b -> c) -> (a -> b) -> a -> c</span>"
       ],
       "metadata": {},
       "output_type": "display_data",
       "text": [
        "forall b c a. (b -> c) -> (a -> b) -> a -> c"
       ]
      }
     ],
     "prompt_number": 25
    },
    {
     "cell_type": "markdown",
     "metadata": {},
     "source": [
      "## Curryings and partial application"
     ]
    },
    {
     "cell_type": "code",
     "collapsed": false,
     "input": [
      "f :: Int -> Int -> Int\n",
      "f x y = 2 * x + y"
     ],
     "language": "python",
     "metadata": {},
     "outputs": [],
     "prompt_number": 26
    },
    {
     "cell_type": "code",
     "collapsed": false,
     "input": [
      "f 3 4"
     ],
     "language": "python",
     "metadata": {},
     "outputs": [
      {
       "metadata": {},
       "output_type": "display_data",
       "text": [
        "10"
       ]
      }
     ],
     "prompt_number": 27
    },
    {
     "cell_type": "code",
     "collapsed": false,
     "input": [
      "f' :: Int -> (Int -> Int)\n",
      "f' x y = 2 * x + y"
     ],
     "language": "python",
     "metadata": {},
     "outputs": [
      {
       "html": [
        " <div class=\"suggestion-name\" style=\"clear:both;\"> Redundant bracket</div>  <div class=\"suggestion-row\" style=\"float: left;\"> <div class=\"suggestion-warning\">Found:</div>  <div class=\"highlight-code\" id=\"haskell\">  Int -> (Int -> Int)\n",
        "</div> </div>  <div class=\"suggestion-row\" style=\"float: left;\"> <div class=\"suggestion-warning\">Why Not:</div>  <div class=\"highlight-code\" id=\"haskell\">  Int -> Int -> Int\n",
        "</div> </div> "
       ],
       "metadata": {},
       "output_type": "display_data",
       "text": [
        "Line 1:  Redundant bracket\n",
        "Found:\n",
        "  Int -> (Int -> Int)\n",
        "\n",
        "Why not:\n",
        "  Int -> Int -> Int"
       ]
      }
     ],
     "prompt_number": 28
    },
    {
     "cell_type": "code",
     "collapsed": false,
     "input": [
      "f' 3 4"
     ],
     "language": "python",
     "metadata": {},
     "outputs": [
      {
       "metadata": {},
       "output_type": "display_data",
       "text": [
        "10"
       ]
      }
     ],
     "prompt_number": 29
    },
    {
     "cell_type": "code",
     "collapsed": false,
     "input": [
      "f'' :: (Int, Int) -> Int\n",
      "f'' (x, y) = 2 * x + y"
     ],
     "language": "python",
     "metadata": {},
     "outputs": [],
     "prompt_number": 30
    },
    {
     "cell_type": "code",
     "collapsed": false,
     "input": [
      "schonfinkel :: ((a, b) -> c) -> a -> b -> c\n",
      "schonfinkel f x y = f (x, y)"
     ],
     "language": "python",
     "metadata": {},
     "outputs": [],
     "prompt_number": 31
    },
    {
     "cell_type": "code",
     "collapsed": false,
     "input": [
      "unschonfinkel :: (a -> b -> c) -> (a, b) -> c\n",
      "unschonfinkel f (x, y) = f x y"
     ],
     "language": "python",
     "metadata": {},
     "outputs": [],
     "prompt_number": 32
    },
    {
     "cell_type": "code",
     "collapsed": false,
     "input": [
      "uncurry (+) (2, 3)"
     ],
     "language": "python",
     "metadata": {},
     "outputs": [
      {
       "metadata": {},
       "output_type": "display_data",
       "text": [
        "5"
       ]
      }
     ],
     "prompt_number": 33
    },
    {
     "cell_type": "code",
     "collapsed": false,
     "input": [
      "curry f'' 2 3"
     ],
     "language": "python",
     "metadata": {},
     "outputs": [
      {
       "metadata": {},
       "output_type": "display_data",
       "text": [
        "7"
       ]
      }
     ],
     "prompt_number": 36
    },
    {
     "cell_type": "markdown",
     "metadata": {},
     "source": [
      "## Wholemeal programming"
     ]
    },
    {
     "cell_type": "code",
     "collapsed": false,
     "input": [
      "foobar :: [Integer] -> Integer\n",
      "foobar [] = 0\n",
      "foobar (x:xs)\n",
      "    | x > 3     = (7*x + 2) + foobar xs\n",
      "    | otherwise = foobar xs"
     ],
     "language": "python",
     "metadata": {},
     "outputs": [],
     "prompt_number": 42
    },
    {
     "cell_type": "code",
     "collapsed": false,
     "input": [
      "foobar [1, 2, 3, 4, 5]"
     ],
     "language": "python",
     "metadata": {},
     "outputs": [
      {
       "metadata": {},
       "output_type": "display_data",
       "text": [
        "67"
       ]
      }
     ],
     "prompt_number": 45
    },
    {
     "cell_type": "code",
     "collapsed": false,
     "input": [
      "foobar' :: [Integer] -> Integer\n",
      "foobar' = sum . map (\\x -> 7 * x + 2) . filter (> 3)"
     ],
     "language": "python",
     "metadata": {},
     "outputs": [],
     "prompt_number": 43
    },
    {
     "cell_type": "code",
     "collapsed": false,
     "input": [
      "foobar' [1, 2, 3, 4, 5]"
     ],
     "language": "python",
     "metadata": {},
     "outputs": [
      {
       "metadata": {},
       "output_type": "display_data",
       "text": [
        "67"
       ]
      }
     ],
     "prompt_number": 46
    },
    {
     "cell_type": "markdown",
     "metadata": {},
     "source": [
      "## Folds"
     ]
    },
    {
     "cell_type": "code",
     "collapsed": false,
     "input": [
      "sum' :: [Integer] -> Integer\n",
      "sum' []     = 0\n",
      "sum' (x:xs) = x + sum' xs"
     ],
     "language": "python",
     "metadata": {},
     "outputs": [
      {
       "html": [
        " <div class=\"suggestion-name\" style=\"clear:both;\"> Use foldr</div>  <div class=\"suggestion-row\" style=\"float: left;\"> <div class=\"suggestion-warning\">Found:</div>  <div class=\"highlight-code\" id=\"haskell\">  sum' [] = 0\n",
        "  sum' (x : xs) = x + sum' xs\n",
        "</div> </div>  <div class=\"suggestion-row\" style=\"float: left;\"> <div class=\"suggestion-warning\">Why Not:</div>  <div class=\"highlight-code\" id=\"haskell\">  sum' xs = foldr (+) 0 xs\n",
        "</div> </div> "
       ],
       "metadata": {},
       "output_type": "display_data",
       "text": [
        "Line 2:  Use foldr\n",
        "Found:\n",
        "  sum' [] = 0\n",
        "  sum' (x : xs) = x + sum' xs\n",
        "\n",
        "Why not:\n",
        "  sum' xs = foldr (+) 0 xs"
       ]
      }
     ],
     "prompt_number": 48
    },
    {
     "cell_type": "code",
     "collapsed": false,
     "input": [
      "prod' :: [Integer] -> Integer\n",
      "prod' []     = 1\n",
      "prod' (x:xs) = x + prod' xs"
     ],
     "language": "python",
     "metadata": {},
     "outputs": [
      {
       "html": [
        " <div class=\"suggestion-name\" style=\"clear:both;\"> Use foldr</div>  <div class=\"suggestion-row\" style=\"float: left;\"> <div class=\"suggestion-warning\">Found:</div>  <div class=\"highlight-code\" id=\"haskell\">  prod' [] = 1\n",
        "  prod' (x : xs) = x + prod' xs\n",
        "</div> </div>  <div class=\"suggestion-row\" style=\"float: left;\"> <div class=\"suggestion-warning\">Why Not:</div>  <div class=\"highlight-code\" id=\"haskell\">  prod' xs = foldr (+) 1 xs\n",
        "</div> </div> "
       ],
       "metadata": {},
       "output_type": "display_data",
       "text": [
        "Line 2:  Use foldr\n",
        "Found:\n",
        "  prod' [] = 1\n",
        "  prod' (x : xs) = x + prod' xs\n",
        "\n",
        "Why not:\n",
        "  prod' xs = foldr (+) 1 xs"
       ]
      }
     ],
     "prompt_number": 50
    },
    {
     "cell_type": "code",
     "collapsed": false,
     "input": [
      "length' :: [Integer] -> Integer\n",
      "length' []     = 0\n",
      "length' (x:xs) = 1 + length' xs"
     ],
     "language": "python",
     "metadata": {},
     "outputs": [
      {
       "html": [
        " <div class=\"suggestion-name\" style=\"clear:both;\"> Use foldr</div>  <div class=\"suggestion-row\" style=\"float: left;\"> <div class=\"suggestion-warning\">Found:</div>  <div class=\"highlight-code\" id=\"haskell\">  length' [] = 0\n",
        "  length' (x : xs) = 1 + length' xs\n",
        "</div> </div>  <div class=\"suggestion-row\" style=\"float: left;\"> <div class=\"suggestion-warning\">Why Not:</div>  <div class=\"highlight-code\" id=\"haskell\">  length' xs = foldr (\\ x -> (+) 1) 0 xs\n",
        "</div> </div> "
       ],
       "metadata": {},
       "output_type": "display_data",
       "text": [
        "Line 2:  Use foldr\n",
        "Found:\n",
        "  length' [] = 0\n",
        "  length' (x : xs) = 1 + length' xs\n",
        "\n",
        "Why not:\n",
        "  length' xs = foldr (\\ x -> (+) 1) 0 xs"
       ]
      }
     ],
     "prompt_number": 51
    },
    {
     "cell_type": "code",
     "collapsed": false,
     "input": [
      "fold :: b -> (a -> b -> b) -> [a] -> b\n",
      "fold z f []     = z\n",
      "fold z f (x:xs) = f x (fold z f xs)"
     ],
     "language": "python",
     "metadata": {},
     "outputs": [
      {
       "html": [
        " <div class=\"suggestion-name\" style=\"clear:both;\"> Use foldr</div>  <div class=\"suggestion-row\" style=\"float: left;\"> <div class=\"suggestion-warning\">Found:</div>  <div class=\"highlight-code\" id=\"haskell\">  fold z f [] = z\n",
        "  fold z f (x : xs) = f x (fold z f xs)\n",
        "</div> </div>  <div class=\"suggestion-row\" style=\"float: left;\"> <div class=\"suggestion-warning\">Why Not:</div>  <div class=\"highlight-code\" id=\"haskell\">  fold z f xs = foldr f z xs\n",
        "</div> </div> "
       ],
       "metadata": {},
       "output_type": "display_data",
       "text": [
        "Line 2:  Use foldr\n",
        "Found:\n",
        "  fold z f [] = z\n",
        "  fold z f (x : xs) = f x (fold z f xs)\n",
        "\n",
        "Why not:\n",
        "  fold z f xs = foldr f z xs"
       ]
      }
     ],
     "prompt_number": 53
    },
    {
     "cell_type": "code",
     "collapsed": false,
     "input": [
      "sum''     = fold 0 (+)\n",
      "product'' = fold 1 (*)\n",
      "length''  = fold 0 (\\_ s -> 1 + s)"
     ],
     "language": "python",
     "metadata": {},
     "outputs": [],
     "prompt_number": 54
    },
    {
     "cell_type": "code",
     "collapsed": false,
     "input": [],
     "language": "python",
     "metadata": {},
     "outputs": []
    }
   ],
   "metadata": {}
  }
 ]
}