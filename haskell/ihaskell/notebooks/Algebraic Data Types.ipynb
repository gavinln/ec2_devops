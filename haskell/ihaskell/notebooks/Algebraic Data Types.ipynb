{
 "metadata": {
  "language": "haskell",
  "name": "",
  "signature": "sha256:47b61db5d5d1cd55929439de502b9fa87536563343769ed00d88d24b8c605423"
 },
 "nbformat": 3,
 "nbformat_minor": 0,
 "worksheets": [
  {
   "cells": [
    {
     "cell_type": "markdown",
     "metadata": {},
     "source": [
      "## Enumeration Types"
     ]
    },
    {
     "cell_type": "code",
     "collapsed": false,
     "input": [
      "data Thing = Shoe\n",
      "    | Ship\n",
      "    | SealingWax\n",
      "    | Cabbage\n",
      "    | King\n",
      "    deriving Show"
     ],
     "language": "python",
     "metadata": {},
     "outputs": [],
     "prompt_number": 11
    },
    {
     "cell_type": "code",
     "collapsed": false,
     "input": [
      "shoe :: Thing\n",
      "shoe = Shoe"
     ],
     "language": "python",
     "metadata": {},
     "outputs": [],
     "prompt_number": 2
    },
    {
     "cell_type": "code",
     "collapsed": false,
     "input": [
      "shoe = Box"
     ],
     "language": "python",
     "metadata": {},
     "outputs": [
      {
       "html": [
        "<span class='err-msg'>Not in scope: data constructor `Box'</span>"
       ],
       "metadata": {},
       "output_type": "display_data",
       "text": [
        "Not in scope: data constructor `Box'"
       ]
      }
     ],
     "prompt_number": 3
    },
    {
     "cell_type": "code",
     "collapsed": false,
     "input": [
      "listOfThings :: [Thing]\n",
      "listOfThings = [Shoe, SealingWax, King, Cabbage, King]"
     ],
     "language": "python",
     "metadata": {},
     "outputs": [],
     "prompt_number": 4
    },
    {
     "cell_type": "markdown",
     "metadata": {},
     "source": [
      "### Pattern matching"
     ]
    },
    {
     "cell_type": "code",
     "collapsed": false,
     "input": [
      "isSmall :: Thing -> Bool\n",
      "isSmall Shoe = True\n",
      "isSmall Ship = False\n",
      "isSmall SealingWax = True\n",
      "isSmall Cabbage = True\n",
      "isSmall King = False"
     ],
     "language": "python",
     "metadata": {},
     "outputs": [],
     "prompt_number": 6
    },
    {
     "cell_type": "markdown",
     "metadata": {},
     "source": [
      "### Alternate pattern matching"
     ]
    },
    {
     "cell_type": "code",
     "collapsed": false,
     "input": [
      "isSmall2 :: Thing -> Bool\n",
      "isSmall2 Ship = False\n",
      "isSmall2 King = False\n",
      "isSmall2 _ = True"
     ],
     "language": "python",
     "metadata": {},
     "outputs": [],
     "prompt_number": 7
    },
    {
     "cell_type": "markdown",
     "metadata": {},
     "source": [
      "### Beyond enumerations"
     ]
    },
    {
     "cell_type": "code",
     "collapsed": false,
     "input": [
      "data FailableDouble = Failure\n",
      "                    | OK Double\n",
      "     deriving Show"
     ],
     "language": "python",
     "metadata": {},
     "outputs": [],
     "prompt_number": 2
    },
    {
     "cell_type": "code",
     "collapsed": false,
     "input": [
      "ex01 = Failure\n",
      "ex02 = OK 3.4"
     ],
     "language": "python",
     "metadata": {},
     "outputs": [],
     "prompt_number": 7
    },
    {
     "cell_type": "code",
     "collapsed": false,
     "input": [
      "safeDiv :: Double -> Double -> FailableDouble\n",
      "safeDiv _ 0 = Failure\n",
      "safeDiv x y = OK (x / y)"
     ],
     "language": "python",
     "metadata": {},
     "outputs": [],
     "prompt_number": 8
    },
    {
     "cell_type": "code",
     "collapsed": false,
     "input": [
      "failureToZero :: FailableDouble -> Double\n",
      "failureToZero Failure = 0\n",
      "failureToZero (OK d)  = d"
     ],
     "language": "python",
     "metadata": {},
     "outputs": [],
     "prompt_number": 9
    },
    {
     "cell_type": "code",
     "collapsed": false,
     "input": [
      "data Person = Person String Int Thing\n",
      "    deriving Show"
     ],
     "language": "python",
     "metadata": {},
     "outputs": [],
     "prompt_number": 12
    },
    {
     "cell_type": "code",
     "collapsed": false,
     "input": [
      "brent :: Person\n",
      "brent = Person \"Brent\" 31 SealingWax"
     ],
     "language": "python",
     "metadata": {},
     "outputs": [],
     "prompt_number": 13
    },
    {
     "cell_type": "code",
     "collapsed": false,
     "input": [
      "stan :: Person\n",
      "stan = Person \"Stan\" 94 Cabbage"
     ],
     "language": "python",
     "metadata": {},
     "outputs": [],
     "prompt_number": 14
    },
    {
     "cell_type": "code",
     "collapsed": false,
     "input": [
      "getAge :: Person -> Int\n",
      "getAge (Person _ a _) = a"
     ],
     "language": "python",
     "metadata": {},
     "outputs": [],
     "prompt_number": 15
    },
    {
     "cell_type": "code",
     "collapsed": false,
     "input": [
      "baz :: Person -> String\n",
      "baz p@(Person n _ _) = \"The name field of (\" ++ show p ++ \" is \" ++ n"
     ],
     "language": "python",
     "metadata": {},
     "outputs": [],
     "prompt_number": 16
    },
    {
     "cell_type": "code",
     "collapsed": false,
     "input": [
      "baz brent"
     ],
     "language": "python",
     "metadata": {},
     "outputs": [
      {
       "metadata": {},
       "output_type": "display_data",
       "text": [
        "\"The name field of (Person \\\"Brent\\\" 31 SealingWax is Brent\""
       ]
      }
     ],
     "prompt_number": 17
    },
    {
     "cell_type": "code",
     "collapsed": false,
     "input": [
      "checkFav :: Person -> String\n",
      "checkFav (Person n _ SealingWax) = n ++ \", you're my kind of person!\"\n",
      "checkFav (Person n _ _) = n ++ \", your favorite thing is lame.\""
     ],
     "language": "python",
     "metadata": {},
     "outputs": [],
     "prompt_number": 18
    },
    {
     "cell_type": "code",
     "collapsed": false,
     "input": [
      "checkFav brent\n",
      "checkFav stan"
     ],
     "language": "python",
     "metadata": {},
     "outputs": [
      {
       "metadata": {},
       "output_type": "display_data",
       "text": [
        "\"Brent, you're my kind of person!\""
       ]
      },
      {
       "metadata": {},
       "output_type": "display_data",
       "text": [
        "\"Stan, your favorite thing is lame.\""
       ]
      }
     ],
     "prompt_number": 20
    },
    {
     "cell_type": "markdown",
     "metadata": {},
     "source": [
      "### Case expressions"
     ]
    },
    {
     "cell_type": "code",
     "collapsed": false,
     "input": [
      "failureToZero' :: FailableDouble -> Double\n",
      "failureToZero' x = case x of\n",
      "                    Failure -> 0\n",
      "                    (OK d) -> d"
     ],
     "language": "python",
     "metadata": {},
     "outputs": [],
     "prompt_number": 21
    },
    {
     "cell_type": "markdown",
     "metadata": {},
     "source": [
      "### Recursive data types"
     ]
    },
    {
     "cell_type": "code",
     "collapsed": false,
     "input": [
      "data IntList = Empty | Cons Int IntList\n",
      "    deriving Show"
     ],
     "language": "python",
     "metadata": {},
     "outputs": [],
     "prompt_number": 27
    },
    {
     "cell_type": "code",
     "collapsed": false,
     "input": [
      "intListProd :: IntList -> Int\n",
      "intListProd Empty      = 1\n",
      "intListProd (Cons x l) = x * intListProd l"
     ],
     "language": "python",
     "metadata": {},
     "outputs": [],
     "prompt_number": 28
    },
    {
     "cell_type": "code",
     "collapsed": false,
     "input": [
      "item :: IntList\n",
      "item = Cons 3 $ Cons 4 $ Cons 5 Empty"
     ],
     "language": "python",
     "metadata": {},
     "outputs": [],
     "prompt_number": 37
    },
    {
     "cell_type": "code",
     "collapsed": false,
     "input": [
      "intListProd item"
     ],
     "language": "python",
     "metadata": {},
     "outputs": [
      {
       "metadata": {},
       "output_type": "display_data",
       "text": [
        "60"
       ]
      }
     ],
     "prompt_number": 39
    },
    {
     "cell_type": "code",
     "collapsed": false,
     "input": [
      "data Tree = Leaf Char\n",
      "        | Node Tree Int Tree\n",
      "    deriving Show"
     ],
     "language": "python",
     "metadata": {},
     "outputs": [],
     "prompt_number": 40
    },
    {
     "cell_type": "code",
     "collapsed": false,
     "input": [
      "tree :: Tree\n",
      "tree = Node (Leaf 'x') 1 (Node (Leaf 'y') 2 (Leaf 'z'))"
     ],
     "language": "python",
     "metadata": {},
     "outputs": [],
     "prompt_number": 41
    },
    {
     "cell_type": "code",
     "collapsed": false,
     "input": [
      "tree"
     ],
     "language": "python",
     "metadata": {},
     "outputs": [
      {
       "metadata": {},
       "output_type": "display_data",
       "text": [
        "Node (Leaf 'x') 1 (Node (Leaf 'y') 2 (Leaf 'z'))"
       ]
      }
     ],
     "prompt_number": 42
    },
    {
     "cell_type": "code",
     "collapsed": false,
     "input": [],
     "language": "python",
     "metadata": {},
     "outputs": []
    }
   ],
   "metadata": {}
  }
 ]
}