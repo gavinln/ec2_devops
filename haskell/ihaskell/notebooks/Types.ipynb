{
 "metadata": {
  "language": "haskell",
  "name": "",
  "signature": "sha256:47b61db5d5d1cd55929439de502b9fa87536563343769ed00d88d24b8c605423"
 },
 "nbformat": 3,
 "nbformat_minor": 0,
 "worksheets": [
  {
   "cells": [
    {
     "cell_type": "markdown",
     "metadata": {},
     "source": [
      "## Enumeration Types"
     ]
    },
    {
     "cell_type": "code",
     "collapsed": false,
     "input": [
      "data Thing = Shoe\n",
      "    | Ship\n",
      "    | SealingWax\n",
      "    | Cabbage\n",
      "    | King\n",
      "    deriving Show"
     ],
     "language": "python",
     "metadata": {},
     "outputs": [],
     "prompt_number": 1
    },
    {
     "cell_type": "code",
     "collapsed": false,
     "input": [
      "shoe :: Thing\n",
      "shoe = Shoe"
     ],
     "language": "python",
     "metadata": {},
     "outputs": [],
     "prompt_number": 2
    },
    {
     "cell_type": "code",
     "collapsed": false,
     "input": [
      "shoe = Box"
     ],
     "language": "python",
     "metadata": {},
     "outputs": [
      {
       "html": [
        "<span class='err-msg'>Not in scope: data constructor `Box'</span>"
       ],
       "metadata": {},
       "output_type": "display_data",
       "text": [
        "Not in scope: data constructor `Box'"
       ]
      }
     ],
     "prompt_number": 3
    },
    {
     "cell_type": "code",
     "collapsed": false,
     "input": [
      "listOfThings :: [Thing]\n",
      "listOfThings = [Shoe, SealingWax, King, Cabbage, King]"
     ],
     "language": "python",
     "metadata": {},
     "outputs": [],
     "prompt_number": 4
    },
    {
     "cell_type": "markdown",
     "metadata": {},
     "source": [
      "### Pattern matching"
     ]
    },
    {
     "cell_type": "code",
     "collapsed": false,
     "input": [
      "isSmall :: Thing -> Bool\n",
      "isSmall Shoe = True\n",
      "isSmall Ship = False\n",
      "isSmall SealingWax = True\n",
      "isSmall Cabbage = True\n",
      "isSmall King = False"
     ],
     "language": "python",
     "metadata": {},
     "outputs": [],
     "prompt_number": 6
    },
    {
     "cell_type": "markdown",
     "metadata": {},
     "source": [
      "### Alternate pattern matching"
     ]
    },
    {
     "cell_type": "code",
     "collapsed": false,
     "input": [
      "isSmall2 :: Thing -> Bool\n",
      "isSmall2 Ship = False\n",
      "isSmall2 King = False\n",
      "isSmall2 _ = True"
     ],
     "language": "python",
     "metadata": {},
     "outputs": [],
     "prompt_number": 7
    },
    {
     "cell_type": "code",
     "collapsed": false,
     "input": [],
     "language": "python",
     "metadata": {},
     "outputs": []
    }
   ],
   "metadata": {}
  }
 ]
}