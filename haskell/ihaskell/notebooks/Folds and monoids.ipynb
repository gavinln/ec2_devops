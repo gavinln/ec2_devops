{
 "metadata": {
  "language": "haskell",
  "name": "",
  "signature": "sha256:b04b2e30265851521b8b13bead745a068a57539b30e1efe24735a10ce2566129"
 },
 "nbformat": 3,
 "nbformat_minor": 0,
 "worksheets": [
  {
   "cells": [
    {
     "cell_type": "markdown",
     "metadata": {},
     "source": [
      "## Folds"
     ]
    },
    {
     "cell_type": "code",
     "collapsed": false,
     "input": [
      "data Tree a = Empty | Node (Tree a) a (Tree a) deriving (Show, Eq)"
     ],
     "language": "python",
     "metadata": {},
     "outputs": [],
     "prompt_number": 1
    },
    {
     "cell_type": "code",
     "collapsed": false,
     "input": [
      "leaf :: a -> Tree a\n",
      "leaf x = Node Empty x Empty"
     ],
     "language": "python",
     "metadata": {},
     "outputs": [],
     "prompt_number": 2
    },
    {
     "cell_type": "markdown",
     "metadata": {},
     "source": [
      "Size of tree"
     ]
    },
    {
     "cell_type": "code",
     "collapsed": false,
     "input": [
      "treeSize :: Tree a -> Integer\n",
      "treeSize Empty     = 0\n",
      "treeSize (Node l _ r) = treeSize l + 1 + treeSize r"
     ],
     "language": "python",
     "metadata": {},
     "outputs": [],
     "prompt_number": 3
    },
    {
     "cell_type": "markdown",
     "metadata": {},
     "source": [
      "Sum of tree"
     ]
    },
    {
     "cell_type": "code",
     "collapsed": false,
     "input": [
      "treeSum :: Tree Integer -> Integer\n",
      "treeSum Empty     = 0\n",
      "treeSum (Node l x r) = x + treeSum l + treeSum r"
     ],
     "language": "python",
     "metadata": {},
     "outputs": [],
     "prompt_number": 4
    },
    {
     "cell_type": "code",
     "collapsed": false,
     "input": [
      "addTree3 :: a -> a -> a -> Tree a\n",
      "addTree3 l x r = Node (leaf l) x (leaf r)"
     ],
     "language": "python",
     "metadata": {},
     "outputs": [],
     "prompt_number": 5
    },
    {
     "cell_type": "code",
     "collapsed": false,
     "input": [
      "tree1 = leaf 5"
     ],
     "language": "python",
     "metadata": {},
     "outputs": [],
     "prompt_number": 6
    },
    {
     "cell_type": "code",
     "collapsed": false,
     "input": [
      "tree2 = addTree3 4 3 5"
     ],
     "language": "python",
     "metadata": {},
     "outputs": [],
     "prompt_number": 7
    },
    {
     "cell_type": "code",
     "collapsed": false,
     "input": [
      "treeSize tree1\n",
      "treeSize tree2"
     ],
     "language": "python",
     "metadata": {},
     "outputs": [
      {
       "metadata": {},
       "output_type": "display_data",
       "text": [
        "1"
       ]
      },
      {
       "metadata": {},
       "output_type": "display_data",
       "text": [
        "3"
       ]
      }
     ],
     "prompt_number": 8
    },
    {
     "cell_type": "code",
     "collapsed": false,
     "input": [
      "treeSum tree1\n",
      "treeSum tree2"
     ],
     "language": "python",
     "metadata": {},
     "outputs": [
      {
       "metadata": {},
       "output_type": "display_data",
       "text": [
        "5"
       ]
      },
      {
       "metadata": {},
       "output_type": "display_data",
       "text": [
        "12"
       ]
      }
     ],
     "prompt_number": 9
    },
    {
     "cell_type": "code",
     "collapsed": false,
     "input": [
      "treeDepth :: Tree a -> Integer\n",
      "treeDepth Empty    = 0\n",
      "treeDepth (Node l x r) = 1 + max (treeDepth l) (treeDepth r)"
     ],
     "language": "python",
     "metadata": {},
     "outputs": [],
     "prompt_number": 10
    },
    {
     "cell_type": "code",
     "collapsed": false,
     "input": [
      "treeDepth tree1\n",
      "treeDepth tree2"
     ],
     "language": "python",
     "metadata": {},
     "outputs": [
      {
       "metadata": {},
       "output_type": "display_data",
       "text": [
        "1"
       ]
      },
      {
       "metadata": {},
       "output_type": "display_data",
       "text": [
        "2"
       ]
      }
     ],
     "prompt_number": 11
    },
    {
     "cell_type": "code",
     "collapsed": false,
     "input": [
      "flatten :: Tree a -> [a]\n",
      "flatten Empty        = []\n",
      "flatten (Node l x r) = flatten l ++ [x] ++ flatten r"
     ],
     "language": "python",
     "metadata": {},
     "outputs": [],
     "prompt_number": 12
    },
    {
     "cell_type": "code",
     "collapsed": false,
     "input": [
      "flatten tree1\n",
      "flatten tree2"
     ],
     "language": "python",
     "metadata": {},
     "outputs": [
      {
       "metadata": {},
       "output_type": "display_data",
       "text": [
        "[5]"
       ]
      },
      {
       "metadata": {},
       "output_type": "display_data",
       "text": [
        "[4,3,5]"
       ]
      }
     ],
     "prompt_number": 13
    },
    {
     "cell_type": "code",
     "collapsed": false,
     "input": [
      "addLeft :: Tree a -> a -> Tree a\n",
      "addLeft a b = Node a b Empty"
     ],
     "language": "python",
     "metadata": {},
     "outputs": [],
     "prompt_number": 14
    },
    {
     "cell_type": "code",
     "collapsed": false,
     "input": [
      "flatten $ addLeft tree2 7"
     ],
     "language": "python",
     "metadata": {},
     "outputs": [
      {
       "metadata": {},
       "output_type": "display_data",
       "text": [
        "[4,3,5,7]"
       ]
      }
     ],
     "prompt_number": 15
    },
    {
     "cell_type": "code",
     "collapsed": false,
     "input": [
      "treeFold :: b -> (b -> a -> b -> b) -> Tree a -> b\n",
      "treeFold e _ Empty            = e\n",
      "treeFold e f (Node l x r)     = f (treeFold e f l) x (treeFold e f r)"
     ],
     "language": "python",
     "metadata": {},
     "outputs": [],
     "prompt_number": 16
    },
    {
     "cell_type": "markdown",
     "metadata": {},
     "source": [
      "Rewriting the other functions in terms of `treeFold`"
     ]
    },
    {
     "cell_type": "code",
     "collapsed": false,
     "input": [
      "treeSize' :: Tree a -> Integer\n",
      "treeSize' = treeFold 0 (\\ l _ r -> l + 1 + r)"
     ],
     "language": "python",
     "metadata": {},
     "outputs": [],
     "prompt_number": 17
    },
    {
     "cell_type": "code",
     "collapsed": false,
     "input": [
      "treeSum' :: Tree Integer -> Integer\n",
      "treeSum' = treeFold 0 (\\ l x r -> l + x + r)"
     ],
     "language": "python",
     "metadata": {},
     "outputs": [],
     "prompt_number": 18
    },
    {
     "cell_type": "code",
     "collapsed": false,
     "input": [
      "treeDepth' :: Tree a -> Integer\n",
      "treeDepth' = treeFold 0 (\\ l _ r -> 1 + max l r)"
     ],
     "language": "python",
     "metadata": {},
     "outputs": [],
     "prompt_number": 19
    },
    {
     "cell_type": "code",
     "collapsed": false,
     "input": [
      "flatten' :: Tree a -> [a]\n",
      "flatten' = treeFold [] (\\ l x r -> l ++ [x] ++ r)"
     ],
     "language": "python",
     "metadata": {},
     "outputs": [],
     "prompt_number": 20
    },
    {
     "cell_type": "code",
     "collapsed": false,
     "input": [
      "treeMax :: (Ord a, Bounded a) => Tree a -> a\n",
      "treeMax = treeFold minBound (\\ l x r -> l `max` x `max` r)"
     ],
     "language": "python",
     "metadata": {},
     "outputs": [],
     "prompt_number": 21
    },
    {
     "cell_type": "markdown",
     "metadata": {},
     "source": [
      "### Folding expressions"
     ]
    },
    {
     "cell_type": "code",
     "collapsed": false,
     "input": [
      "data ExprT = Lit Integer\n",
      "        | Add ExprT ExprT\n",
      "        | Mul ExprT ExprT"
     ],
     "language": "python",
     "metadata": {},
     "outputs": [],
     "prompt_number": 22
    },
    {
     "cell_type": "code",
     "collapsed": false,
     "input": [
      "eval :: ExprT -> Integer\n",
      "eval (Lit i)     = i\n",
      "eval (Add e1 e2) = eval e1 + eval e2\n",
      "eval (Mul e1 e2) = eval e1 * eval e2"
     ],
     "language": "python",
     "metadata": {},
     "outputs": [],
     "prompt_number": 23
    },
    {
     "cell_type": "code",
     "collapsed": false,
     "input": [
      "eval $ Lit 3"
     ],
     "language": "python",
     "metadata": {},
     "outputs": [
      {
       "metadata": {},
       "output_type": "display_data",
       "text": [
        "3"
       ]
      }
     ],
     "prompt_number": 24
    },
    {
     "cell_type": "code",
     "collapsed": false,
     "input": [
      "eval $ Add (Lit 3) (Lit 5)"
     ],
     "language": "python",
     "metadata": {},
     "outputs": [
      {
       "metadata": {},
       "output_type": "display_data",
       "text": [
        "8"
       ]
      }
     ],
     "prompt_number": 25
    },
    {
     "cell_type": "code",
     "collapsed": false,
     "input": [
      "eval $ Mul (Lit 3) (Lit 5)"
     ],
     "language": "python",
     "metadata": {},
     "outputs": [
      {
       "metadata": {},
       "output_type": "display_data",
       "text": [
        "15"
       ]
      }
     ],
     "prompt_number": 26
    },
    {
     "cell_type": "code",
     "collapsed": false,
     "input": [
      "exprTFold :: (Integer -> b) -> (b -> b -> b) -> (b -> b -> b) -> ExprT -> b\n",
      "exprTFold f _ _ (Lit i)     = f i\n",
      "exprTFold f g h (Add e1 e2) = g (exprTFold f g h e1) (exprTFold f g h e2)\n",
      "exprTFold f g h (Mul e1 e2) = h (exprTFold f g h e1) (exprTFold f g h e2)"
     ],
     "language": "python",
     "metadata": {},
     "outputs": [],
     "prompt_number": 29
    },
    {
     "cell_type": "code",
     "collapsed": false,
     "input": [
      "eval2 :: ExprT -> Integer\n",
      "eval2 = exprTFold id (+) (*)"
     ],
     "language": "python",
     "metadata": {},
     "outputs": [],
     "prompt_number": 31
    },
    {
     "cell_type": "code",
     "collapsed": false,
     "input": [
      "eval2 $ Lit 3\n",
      "eval2 $ Add (Lit 3) (Lit 5)\n",
      "eval2 $ Mul (Lit 3) (Lit 5)"
     ],
     "language": "python",
     "metadata": {},
     "outputs": [
      {
       "metadata": {},
       "output_type": "display_data",
       "text": [
        "3"
       ]
      },
      {
       "metadata": {},
       "output_type": "display_data",
       "text": [
        "8"
       ]
      },
      {
       "metadata": {},
       "output_type": "display_data",
       "text": [
        "15"
       ]
      }
     ],
     "prompt_number": 33
    },
    {
     "cell_type": "code",
     "collapsed": false,
     "input": [
      "numLiterals :: ExprT -> Int\n",
      "numLiterals = exprTFold (const 1) (+) (+)"
     ],
     "language": "python",
     "metadata": {},
     "outputs": [],
     "prompt_number": 35
    },
    {
     "cell_type": "code",
     "collapsed": false,
     "input": [
      "numLiterals $ Lit 3\n",
      "numLiterals $ Add (Lit 3) (Lit 5)\n",
      "numLiterals $ Mul (Lit 3) (Lit 5)"
     ],
     "language": "python",
     "metadata": {},
     "outputs": [
      {
       "metadata": {},
       "output_type": "display_data",
       "text": [
        "1"
       ]
      },
      {
       "metadata": {},
       "output_type": "display_data",
       "text": [
        "2"
       ]
      },
      {
       "metadata": {},
       "output_type": "display_data",
       "text": [
        "2"
       ]
      }
     ],
     "prompt_number": 36
    },
    {
     "cell_type": "markdown",
     "metadata": {},
     "source": [
      "## Monoid"
     ]
    },
    {
     "cell_type": "code",
     "collapsed": false,
     "input": [
      "class Monoid' m where\n",
      "    mempty :: m\n",
      "    mappend :: m -> m -> m\n",
      "    \n",
      "    mconcat :: [m] -> m\n",
      "    mconcat = foldr mappend mempty"
     ],
     "language": "python",
     "metadata": {},
     "outputs": [],
     "prompt_number": 38
    },
    {
     "cell_type": "code",
     "collapsed": false,
     "input": [
      "(<>) :: Monoid' m => m -> m -> m\n",
      "(<>) = mappend"
     ],
     "language": "python",
     "metadata": {},
     "outputs": [],
     "prompt_number": 40
    },
    {
     "cell_type": "markdown",
     "metadata": {},
     "source": [
      "### Monoid for lists"
     ]
    },
    {
     "cell_type": "code",
     "collapsed": false,
     "input": [
      "instance Monoid' [a] where\n",
      "    mempty = []\n",
      "    mappend = (++)"
     ],
     "language": "python",
     "metadata": {},
     "outputs": [],
     "prompt_number": 41
    },
    {
     "cell_type": "code",
     "collapsed": false,
     "input": [
      ":set -XGeneralizedNewtypeDeriving"
     ],
     "language": "python",
     "metadata": {},
     "outputs": [],
     "prompt_number": 59
    },
    {
     "cell_type": "code",
     "collapsed": false,
     "input": [
      "newtype Sum a = Sum a\n",
      "  deriving (Eq, Ord, Num, Show)"
     ],
     "language": "python",
     "metadata": {},
     "outputs": [],
     "prompt_number": 60
    },
    {
     "cell_type": "code",
     "collapsed": false,
     "input": [
      "getSum :: Sum a -> a\n",
      "getSum (Sum a) = a"
     ],
     "language": "python",
     "metadata": {},
     "outputs": [],
     "prompt_number": 61
    },
    {
     "cell_type": "code",
     "collapsed": false,
     "input": [
      "getSum (Sum 3)"
     ],
     "language": "python",
     "metadata": {},
     "outputs": [
      {
       "metadata": {},
       "output_type": "display_data",
       "text": [
        "3"
       ]
      }
     ],
     "prompt_number": 62
    },
    {
     "cell_type": "code",
     "collapsed": false,
     "input": [
      "instance Num a => Monoid' (Sum a) where\n",
      "    mempty = Sum 0\n",
      "    mappend = (+)"
     ],
     "language": "python",
     "metadata": {},
     "outputs": [],
     "prompt_number": 69
    },
    {
     "cell_type": "code",
     "collapsed": false,
     "input": [
      "intList :: [Integer]\n",
      "intList = [3, 1, 4]"
     ],
     "language": "python",
     "metadata": {},
     "outputs": [],
     "prompt_number": 88
    },
    {
     "cell_type": "code",
     "collapsed": false,
     "input": [
      "addList :: Integer\n",
      "addList = getSum . mconcat . map Sum $ intList"
     ],
     "language": "python",
     "metadata": {},
     "outputs": [],
     "prompt_number": 89
    },
    {
     "cell_type": "code",
     "collapsed": false,
     "input": [
      "addList"
     ],
     "language": "python",
     "metadata": {},
     "outputs": [
      {
       "metadata": {},
       "output_type": "display_data",
       "text": [
        "8"
       ]
      }
     ],
     "prompt_number": 90
    },
    {
     "cell_type": "code",
     "collapsed": false,
     "input": [
      "newtype Product a = Product a\n",
      "  deriving (Eq, Ord, Num, Show)"
     ],
     "language": "python",
     "metadata": {},
     "outputs": [],
     "prompt_number": 91
    },
    {
     "cell_type": "code",
     "collapsed": false,
     "input": [
      "getProduct :: Product a -> a\n",
      "getProduct (Product a) = a"
     ],
     "language": "python",
     "metadata": {},
     "outputs": [],
     "prompt_number": 92
    },
    {
     "cell_type": "code",
     "collapsed": false,
     "input": [
      "instance Num a => Monoid' (Product a) where\n",
      "    mempty = Product 1\n",
      "    mappend = (*)"
     ],
     "language": "python",
     "metadata": {},
     "outputs": [],
     "prompt_number": 93
    },
    {
     "cell_type": "code",
     "collapsed": false,
     "input": [
      "prodList :: Integer\n",
      "prodList = getProduct . mconcat . map Product $ intList"
     ],
     "language": "python",
     "metadata": {},
     "outputs": [],
     "prompt_number": 94
    },
    {
     "cell_type": "code",
     "collapsed": false,
     "input": [
      "prodList"
     ],
     "language": "python",
     "metadata": {},
     "outputs": [
      {
       "metadata": {},
       "output_type": "display_data",
       "text": [
        "12"
       ]
      }
     ],
     "prompt_number": 95
    },
    {
     "cell_type": "markdown",
     "metadata": {},
     "source": [
      "### Pairs form a monoid"
     ]
    },
    {
     "cell_type": "code",
     "collapsed": false,
     "input": [
      "instance (Monoid' a, Monoid' b) => Monoid' (a, b) where\n",
      "    mempty = (mempty, mempty)\n",
      "    (a, b) `mappend` (c, d) = (a `mappend` c, b `mappend` d)"
     ],
     "language": "python",
     "metadata": {},
     "outputs": [],
     "prompt_number": 98
    },
    {
     "cell_type": "code",
     "collapsed": false,
     "input": [],
     "language": "python",
     "metadata": {},
     "outputs": []
    }
   ],
   "metadata": {}
  }
 ]
}