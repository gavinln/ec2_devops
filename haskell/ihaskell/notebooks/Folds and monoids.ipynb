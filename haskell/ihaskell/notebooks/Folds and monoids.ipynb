{
 "metadata": {
  "language": "haskell",
  "name": "",
  "signature": "sha256:52e6d66fe5d8264f89553a40bc09178730bcb035abe234a5d3e65af6e304ae47"
 },
 "nbformat": 3,
 "nbformat_minor": 0,
 "worksheets": [
  {
   "cells": [
    {
     "cell_type": "markdown",
     "metadata": {},
     "source": [
      "## Folds"
     ]
    },
    {
     "cell_type": "code",
     "collapsed": false,
     "input": [
      "data Tree a = Empty | Node (Tree a) a (Tree a) deriving (Show, Eq)"
     ],
     "language": "python",
     "metadata": {},
     "outputs": [],
     "prompt_number": 1
    },
    {
     "cell_type": "code",
     "collapsed": false,
     "input": [
      "leaf :: a -> Tree a\n",
      "leaf a = Node Empty a Empty"
     ],
     "language": "python",
     "metadata": {},
     "outputs": [],
     "prompt_number": 2
    },
    {
     "cell_type": "markdown",
     "metadata": {},
     "source": [
      "Size of tree"
     ]
    },
    {
     "cell_type": "code",
     "collapsed": false,
     "input": [
      "treeSize :: Tree a -> Integer\n",
      "treeSize Empty     = 0\n",
      "treeSize (Node l _ r) = treeSize l + 1 + treeSize r"
     ],
     "language": "python",
     "metadata": {},
     "outputs": [],
     "prompt_number": 4
    },
    {
     "cell_type": "markdown",
     "metadata": {},
     "source": [
      "Sum of tree"
     ]
    },
    {
     "cell_type": "code",
     "collapsed": false,
     "input": [
      "treeSum :: Tree Integer -> Integer\n",
      "treeSum Empty     = 0\n",
      "treeSum (Node l x r) = x + treeSum l + treeSum r"
     ],
     "language": "python",
     "metadata": {},
     "outputs": [],
     "prompt_number": 15
    },
    {
     "cell_type": "code",
     "collapsed": false,
     "input": [
      "addTree3 :: a -> a -> a -> Tree a\n",
      "addTree3 l a r = Node (leaf l) a (leaf r)"
     ],
     "language": "python",
     "metadata": {},
     "outputs": [],
     "prompt_number": 19
    },
    {
     "cell_type": "code",
     "collapsed": false,
     "input": [
      "tree1 = leaf 5"
     ],
     "language": "python",
     "metadata": {},
     "outputs": [],
     "prompt_number": 23
    },
    {
     "cell_type": "code",
     "collapsed": false,
     "input": [
      "tree2 = addTree3 4 3 5"
     ],
     "language": "python",
     "metadata": {},
     "outputs": [],
     "prompt_number": 22
    },
    {
     "cell_type": "code",
     "collapsed": false,
     "input": [
      "treeSize tree1\n",
      "treeSize tree2"
     ],
     "language": "python",
     "metadata": {},
     "outputs": [
      {
       "metadata": {},
       "output_type": "display_data",
       "text": [
        "1"
       ]
      },
      {
       "metadata": {},
       "output_type": "display_data",
       "text": [
        "3"
       ]
      }
     ],
     "prompt_number": 24
    },
    {
     "cell_type": "code",
     "collapsed": false,
     "input": [
      "treeSum tree1\n",
      "treeSum tree2"
     ],
     "language": "python",
     "metadata": {},
     "outputs": [
      {
       "metadata": {},
       "output_type": "display_data",
       "text": [
        "5"
       ]
      },
      {
       "metadata": {},
       "output_type": "display_data",
       "text": [
        "12"
       ]
      }
     ],
     "prompt_number": 25
    },
    {
     "cell_type": "code",
     "collapsed": false,
     "input": [],
     "language": "python",
     "metadata": {},
     "outputs": []
    }
   ],
   "metadata": {}
  }
 ]
}