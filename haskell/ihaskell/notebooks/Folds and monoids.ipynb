{
 "metadata": {
  "language": "haskell",
  "name": "",
  "signature": "sha256:5b761fb09e477439e048a1667611131874b61aeb7efede84acdd5b1bd54b90c6"
 },
 "nbformat": 3,
 "nbformat_minor": 0,
 "worksheets": [
  {
   "cells": [
    {
     "cell_type": "markdown",
     "metadata": {},
     "source": [
      "## Folds"
     ]
    },
    {
     "cell_type": "code",
     "collapsed": false,
     "input": [
      "data Tree a = Empty | Node (Tree a) a (Tree a) deriving (Show, Eq)"
     ],
     "language": "python",
     "metadata": {},
     "outputs": [],
     "prompt_number": 27
    },
    {
     "cell_type": "code",
     "collapsed": false,
     "input": [
      "leaf :: a -> Tree a\n",
      "leaf x = Node Empty x Empty"
     ],
     "language": "python",
     "metadata": {},
     "outputs": [],
     "prompt_number": 28
    },
    {
     "cell_type": "markdown",
     "metadata": {},
     "source": [
      "Size of tree"
     ]
    },
    {
     "cell_type": "code",
     "collapsed": false,
     "input": [
      "treeSize :: Tree a -> Integer\n",
      "treeSize Empty     = 0\n",
      "treeSize (Node l _ r) = treeSize l + 1 + treeSize r"
     ],
     "language": "python",
     "metadata": {},
     "outputs": [],
     "prompt_number": 29
    },
    {
     "cell_type": "markdown",
     "metadata": {},
     "source": [
      "Sum of tree"
     ]
    },
    {
     "cell_type": "code",
     "collapsed": false,
     "input": [
      "treeSum :: Tree Integer -> Integer\n",
      "treeSum Empty     = 0\n",
      "treeSum (Node l x r) = x + treeSum l + treeSum r"
     ],
     "language": "python",
     "metadata": {},
     "outputs": [],
     "prompt_number": 30
    },
    {
     "cell_type": "code",
     "collapsed": false,
     "input": [
      "addTree3 :: a -> a -> a -> Tree a\n",
      "addTree3 l x r = Node (leaf l) x (leaf r)"
     ],
     "language": "python",
     "metadata": {},
     "outputs": [],
     "prompt_number": 31
    },
    {
     "cell_type": "code",
     "collapsed": false,
     "input": [
      "tree1 = leaf 5"
     ],
     "language": "python",
     "metadata": {},
     "outputs": [],
     "prompt_number": 32
    },
    {
     "cell_type": "code",
     "collapsed": false,
     "input": [
      "tree2 = addTree3 4 3 5"
     ],
     "language": "python",
     "metadata": {},
     "outputs": [],
     "prompt_number": 33
    },
    {
     "cell_type": "code",
     "collapsed": false,
     "input": [
      "treeSize tree1\n",
      "treeSize tree2"
     ],
     "language": "python",
     "metadata": {},
     "outputs": [
      {
       "metadata": {},
       "output_type": "display_data",
       "text": [
        "1"
       ]
      },
      {
       "metadata": {},
       "output_type": "display_data",
       "text": [
        "3"
       ]
      }
     ],
     "prompt_number": 34
    },
    {
     "cell_type": "code",
     "collapsed": false,
     "input": [
      "treeSum tree1\n",
      "treeSum tree2"
     ],
     "language": "python",
     "metadata": {},
     "outputs": [
      {
       "metadata": {},
       "output_type": "display_data",
       "text": [
        "5"
       ]
      },
      {
       "metadata": {},
       "output_type": "display_data",
       "text": [
        "12"
       ]
      }
     ],
     "prompt_number": 35
    },
    {
     "cell_type": "code",
     "collapsed": false,
     "input": [
      "treeDepth :: Tree a -> Integer\n",
      "treeDepth Empty    = 0\n",
      "treeDepth (Node l x r) = 1 + max (treeDepth l) (treeDepth r)"
     ],
     "language": "python",
     "metadata": {},
     "outputs": [],
     "prompt_number": 36
    },
    {
     "cell_type": "code",
     "collapsed": false,
     "input": [
      "treeDepth tree1\n",
      "treeDepth tree2"
     ],
     "language": "python",
     "metadata": {},
     "outputs": [
      {
       "metadata": {},
       "output_type": "display_data",
       "text": [
        "1"
       ]
      },
      {
       "metadata": {},
       "output_type": "display_data",
       "text": [
        "2"
       ]
      }
     ],
     "prompt_number": 38
    },
    {
     "cell_type": "code",
     "collapsed": false,
     "input": [
      "flatten :: Tree a -> [a]\n",
      "flatten Empty        = []\n",
      "flatten (Node l x r) = flatten l ++ [x] ++ flatten r"
     ],
     "language": "python",
     "metadata": {},
     "outputs": [],
     "prompt_number": 39
    },
    {
     "cell_type": "code",
     "collapsed": false,
     "input": [
      "flatten tree1\n",
      "flatten tree2"
     ],
     "language": "python",
     "metadata": {},
     "outputs": [
      {
       "metadata": {},
       "output_type": "display_data",
       "text": [
        "[5]"
       ]
      },
      {
       "metadata": {},
       "output_type": "display_data",
       "text": [
        "[4,3,5]"
       ]
      }
     ],
     "prompt_number": 40
    },
    {
     "cell_type": "code",
     "collapsed": false,
     "input": [
      "addLeft :: Tree a -> a -> Tree a\n",
      "addLeft a b = Node a b Empty"
     ],
     "language": "python",
     "metadata": {},
     "outputs": [],
     "prompt_number": 42
    },
    {
     "cell_type": "code",
     "collapsed": false,
     "input": [
      "flatten $ addLeft tree2 7"
     ],
     "language": "python",
     "metadata": {},
     "outputs": [
      {
       "metadata": {},
       "output_type": "display_data",
       "text": [
        "[4,3,5,7]"
       ]
      }
     ],
     "prompt_number": 45
    },
    {
     "cell_type": "code",
     "collapsed": false,
     "input": [],
     "language": "python",
     "metadata": {},
     "outputs": []
    }
   ],
   "metadata": {}
  }
 ]
}