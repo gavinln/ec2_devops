{
 "metadata": {
  "language": "haskell",
  "name": "",
  "signature": "sha256:f8bb8cae41a6f063f8cacdc2b86efbcafc458e27e055b8955fccfc08e6e5367c"
 },
 "nbformat": 3,
 "nbformat_minor": 0,
 "worksheets": [
  {
   "cells": [
    {
     "cell_type": "markdown",
     "metadata": {},
     "source": [
      "### Recursive data structure"
     ]
    },
    {
     "cell_type": "code",
     "collapsed": false,
     "input": [
      "data IntList = Empty | Cons Int IntList\n",
      "    deriving Show"
     ],
     "language": "python",
     "metadata": {},
     "outputs": [],
     "prompt_number": 1
    },
    {
     "cell_type": "markdown",
     "metadata": {},
     "source": [
      "### Map"
     ]
    },
    {
     "cell_type": "code",
     "collapsed": false,
     "input": [
      "absAll :: IntList -> IntList\n",
      "absAll Empty       = Empty\n",
      "absAll (Cons x xs) = Cons (abs x) (absAll xs)"
     ],
     "language": "python",
     "metadata": {},
     "outputs": [],
     "prompt_number": 2
    },
    {
     "cell_type": "code",
     "collapsed": false,
     "input": [
      "squareAll :: IntList -> IntList\n",
      "squareAll Empty       = Empty\n",
      "squareAll (Cons x xs) = Cons (x * x) (squareAll xs)"
     ],
     "language": "python",
     "metadata": {},
     "outputs": [],
     "prompt_number": 3
    },
    {
     "cell_type": "code",
     "collapsed": false,
     "input": [
      "mapIntList :: (Int -> Int) -> IntList -> IntList\n",
      "mapIntList f Empty        = Empty\n",
      "mapIntList f (Cons x xs)  = Cons (f x) (mapIntList f xs)"
     ],
     "language": "python",
     "metadata": {},
     "outputs": [],
     "prompt_number": 8
    },
    {
     "cell_type": "code",
     "collapsed": false,
     "input": [
      "exampleList = Cons (-1) (Cons 2 (Cons (-6) Empty))"
     ],
     "language": "python",
     "metadata": {},
     "outputs": [],
     "prompt_number": 9
    },
    {
     "cell_type": "code",
     "collapsed": false,
     "input": [
      "addOne x = x + 1\n",
      "square x = x * x"
     ],
     "language": "python",
     "metadata": {},
     "outputs": [],
     "prompt_number": 10
    },
    {
     "cell_type": "code",
     "collapsed": false,
     "input": [
      "mapIntList addOne exampleList\n",
      "mapIntList abs exampleList\n",
      "mapIntList square exampleList"
     ],
     "language": "python",
     "metadata": {},
     "outputs": [
      {
       "metadata": {},
       "output_type": "display_data",
       "text": [
        "Cons 0 (Cons 3 (Cons (-5) Empty))"
       ]
      },
      {
       "metadata": {},
       "output_type": "display_data",
       "text": [
        "Cons 1 (Cons 2 (Cons 6 Empty))"
       ]
      },
      {
       "metadata": {},
       "output_type": "display_data",
       "text": [
        "Cons 1 (Cons 4 (Cons 36 Empty))"
       ]
      }
     ],
     "prompt_number": 13
    },
    {
     "cell_type": "markdown",
     "metadata": {},
     "source": [
      "### Filter"
     ]
    },
    {
     "cell_type": "code",
     "collapsed": false,
     "input": [],
     "language": "python",
     "metadata": {},
     "outputs": []
    }
   ],
   "metadata": {}
  }
 ]
}